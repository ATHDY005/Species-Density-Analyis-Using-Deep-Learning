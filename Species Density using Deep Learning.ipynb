{
 "cells": [
  {
   "cell_type": "code",
   "execution_count": 1,
   "id": "75d4572d",
   "metadata": {
    "_cell_guid": "b1076dfc-b9ad-4769-8c92-a6c4dae69d19",
    "_uuid": "8f2839f25d086af736a60e9eeb907d3b93b6e0e5",
    "execution": {
     "iopub.execute_input": "2023-09-23T11:35:13.745919Z",
     "iopub.status.busy": "2023-09-23T11:35:13.745304Z",
     "iopub.status.idle": "2023-09-23T11:35:19.159534Z",
     "shell.execute_reply": "2023-09-23T11:35:19.158677Z"
    },
    "papermill": {
     "duration": 5.499831,
     "end_time": "2023-09-23T11:35:19.161969",
     "exception": false,
     "start_time": "2023-09-23T11:35:13.662138",
     "status": "completed"
    },
    "tags": []
   },
   "outputs": [],
   "source": [
    "# This Python 3 environment comes with many helpful analytics libraries installed\n",
    "# It is defined by the kaggle/python Docker image: https://github.com/kaggle/docker-python\n",
    "# For example, here's several helpful packages to load\n",
    "\n",
    "import numpy as np # linear algebra\n",
    "import pandas as pd # data processing, CSV file I/O (e.g. pd.read_csv)\n",
    "import os\n",
    "import matplotlib.pyplot as plt\n",
    "import tensorflow as tf\n",
    "import tensorflow_io as tfio\n",
    "from keras.models import Sequential\n",
    "from keras.layers import Dense, Conv2D, Flatten\n",
    "from itertools import groupby\n",
    "# Input data files are available in the read-only \"../input/\" directory\n",
    "# For example, running this (by clicking run or pressing Shift+Enter) will list all files under the input directory\n",
    "\n",
    "# You can write up to 20GB to the current directory (/kaggle/working/) that gets preserved as output when you create a version using \"Save & Run All\" \n",
    "# You can also write temporary files to /kaggle/temp/, but they won't be saved outside of the current session"
   ]
  },
  {
   "cell_type": "code",
   "execution_count": 2,
   "id": "b6b29ea2",
   "metadata": {
    "execution": {
     "iopub.execute_input": "2023-09-23T11:35:19.319053Z",
     "iopub.status.busy": "2023-09-23T11:35:19.318793Z",
     "iopub.status.idle": "2023-09-23T11:35:19.323060Z",
     "shell.execute_reply": "2023-09-23T11:35:19.322367Z"
    },
    "papermill": {
     "duration": 0.084672,
     "end_time": "2023-09-23T11:35:19.324833",
     "exception": false,
     "start_time": "2023-09-23T11:35:19.240161",
     "status": "completed"
    },
    "tags": []
   },
   "outputs": [],
   "source": [
    "CAPUCHIN_FILE = os.path.join('/kaggle/input','z-by-hp-unlocked-challenge-3-signal-processing','Parsed_Capuchinbird_Clips','XC3776-3.wav')\n",
    "NOT_CAPUCHIN_FILE= os.path.join('/kaggle/input','z-by-hp-unlocked-challenge-3-signal-processing','Parsed_Not_Capuchinbird_Clips','afternoon-birds-song-in-forest-0.wav')"
   ]
  },
  {
   "cell_type": "code",
   "execution_count": 3,
   "id": "0a560d5d",
   "metadata": {
    "execution": {
     "iopub.execute_input": "2023-09-23T11:35:19.481036Z",
     "iopub.status.busy": "2023-09-23T11:35:19.480330Z",
     "iopub.status.idle": "2023-09-23T11:35:19.484148Z",
     "shell.execute_reply": "2023-09-23T11:35:19.483652Z"
    },
    "papermill": {
     "duration": 0.083557,
     "end_time": "2023-09-23T11:35:19.485793",
     "exception": false,
     "start_time": "2023-09-23T11:35:19.402236",
     "status": "completed"
    },
    "tags": []
   },
   "outputs": [],
   "source": [
    "bird1 = '/kaggle/input/birdsong-recognition/train_audio/aldfly/XC135454.mp3'\n",
    "bird2 = '/kaggle/input/birdsong-recognition/train_audio/amecro/XC112598.mp3'\n",
    "#bird2 = os.path.join('/kaggle/input','birdsong-recognition','train_audio/amecro','XC112598.mp3')"
   ]
  },
  {
   "cell_type": "code",
   "execution_count": 4,
   "id": "5f0500ee",
   "metadata": {
    "execution": {
     "iopub.execute_input": "2023-09-23T11:35:19.641644Z",
     "iopub.status.busy": "2023-09-23T11:35:19.641375Z",
     "iopub.status.idle": "2023-09-23T11:35:19.645039Z",
     "shell.execute_reply": "2023-09-23T11:35:19.644328Z"
    },
    "papermill": {
     "duration": 0.083918,
     "end_time": "2023-09-23T11:35:19.646840",
     "exception": false,
     "start_time": "2023-09-23T11:35:19.562922",
     "status": "completed"
    },
    "tags": []
   },
   "outputs": [],
   "source": [
    "# CAPUCHIN_FILE"
   ]
  },
  {
   "cell_type": "code",
   "execution_count": 5,
   "id": "39bd7692",
   "metadata": {
    "execution": {
     "iopub.execute_input": "2023-09-23T11:35:19.807532Z",
     "iopub.status.busy": "2023-09-23T11:35:19.806954Z",
     "iopub.status.idle": "2023-09-23T11:35:19.812563Z",
     "shell.execute_reply": "2023-09-23T11:35:19.811879Z"
    },
    "papermill": {
     "duration": 0.08749,
     "end_time": "2023-09-23T11:35:19.814462",
     "exception": false,
     "start_time": "2023-09-23T11:35:19.726972",
     "status": "completed"
    },
    "tags": []
   },
   "outputs": [],
   "source": [
    "def load_wav_16k_mono(filename):\n",
    "    file_contents=tf.io.read_file(filename)\n",
    "    wav,sample_rate=tf.audio.decode_wav(file_contents,desired_channels=1)\n",
    "    wav=tf.squeeze(wav,axis=-1)\n",
    "    sample_rate=tf.cast(sample_rate,dtype=tf.int64)\n",
    "    wav=tfio.audio.resample(wav,rate_in=sample_rate,rate_out=16000)\n",
    "    return wav"
   ]
  },
  {
   "cell_type": "code",
   "execution_count": 6,
   "id": "ff7b935c",
   "metadata": {
    "execution": {
     "iopub.execute_input": "2023-09-23T11:35:19.970884Z",
     "iopub.status.busy": "2023-09-23T11:35:19.970658Z",
     "iopub.status.idle": "2023-09-23T11:35:22.853058Z",
     "shell.execute_reply": "2023-09-23T11:35:22.852273Z"
    },
    "papermill": {
     "duration": 2.962929,
     "end_time": "2023-09-23T11:35:22.855434",
     "exception": false,
     "start_time": "2023-09-23T11:35:19.892505",
     "status": "completed"
    },
    "tags": []
   },
   "outputs": [],
   "source": [
    "wave=load_wav_16k_mono(CAPUCHIN_FILE)\n",
    "nwave=load_wav_16k_mono(NOT_CAPUCHIN_FILE)"
   ]
  },
  {
   "cell_type": "code",
   "execution_count": 7,
   "id": "4dd9f87e",
   "metadata": {
    "execution": {
     "iopub.execute_input": "2023-09-23T11:35:23.012738Z",
     "iopub.status.busy": "2023-09-23T11:35:23.011969Z",
     "iopub.status.idle": "2023-09-23T11:35:24.285918Z",
     "shell.execute_reply": "2023-09-23T11:35:24.285073Z"
    },
    "papermill": {
     "duration": 1.355278,
     "end_time": "2023-09-23T11:35:24.288664",
     "exception": false,
     "start_time": "2023-09-23T11:35:22.933386",
     "status": "completed"
    },
    "tags": []
   },
   "outputs": [
    {
     "data": {
      "text/plain": [
       "<_io.BufferedRandom name='result.wav'>"
      ]
     },
     "execution_count": 7,
     "metadata": {},
     "output_type": "execute_result"
    }
   ],
   "source": [
    "# import required modules mp3 to wav\n",
    "from os import path\n",
    "from pydub import AudioSegment\n",
    "  \n",
    "# assign files\n",
    "input_file1 = '/kaggle/input/birdsong-recognition/train_audio/aldfly/XC135454.mp3'\n",
    "output_file1 = \"result1.wav\"\n",
    "input_file = '/kaggle/input/birdsong-recognition/train_audio/amecro/XC112598.mp3'\n",
    "output_file = \"result.wav\"\n",
    "# convert mp3 file to wav file\n",
    "sound1 = AudioSegment.from_mp3(input_file1)\n",
    "sound1.export(output_file1, format=\"wav\")\n",
    "sound = AudioSegment.from_mp3(input_file)\n",
    "sound.export(output_file, format=\"wav\")"
   ]
  },
  {
   "cell_type": "code",
   "execution_count": 8,
   "id": "59d8706a",
   "metadata": {
    "execution": {
     "iopub.execute_input": "2023-09-23T11:35:24.447132Z",
     "iopub.status.busy": "2023-09-23T11:35:24.446589Z",
     "iopub.status.idle": "2023-09-23T11:35:24.452172Z",
     "shell.execute_reply": "2023-09-23T11:35:24.451469Z"
    },
    "papermill": {
     "duration": 0.086578,
     "end_time": "2023-09-23T11:35:24.454009",
     "exception": false,
     "start_time": "2023-09-23T11:35:24.367431",
     "status": "completed"
    },
    "tags": []
   },
   "outputs": [],
   "source": [
    "import os\n",
    "birds=[\"amecro\",\"carwre\",\"fiespa\",\"foxspa\",\"pinjay\"]\n",
    "path = \"/kaggle/working/\"\n",
    "for i in birds:\n",
    "    if not os.path.isdir(path+i):\n",
    "        os.mkdir(path+i)"
   ]
  },
  {
   "cell_type": "code",
   "execution_count": 9,
   "id": "05afbad6",
   "metadata": {
    "execution": {
     "iopub.execute_input": "2023-09-23T11:35:24.610796Z",
     "iopub.status.busy": "2023-09-23T11:35:24.610561Z",
     "iopub.status.idle": "2023-09-23T11:38:01.552656Z",
     "shell.execute_reply": "2023-09-23T11:38:01.551469Z"
    },
    "papermill": {
     "duration": 157.024029,
     "end_time": "2023-09-23T11:38:01.555745",
     "exception": false,
     "start_time": "2023-09-23T11:35:24.531716",
     "status": "completed"
    },
    "tags": []
   },
   "outputs": [],
   "source": [
    "# import required modules\n",
    "import os\n",
    "from os import path\n",
    "from pydub import AudioSegment\n",
    "input_file = \"/kaggle/input/birdsong-recognition/train_audio/\"\n",
    "output = \"/kaggle/working/\"\n",
    "# assign files\n",
    "birds=[\"amecro\",\"carwre\",\"fiespa\",\"foxspa\",\"pinjay\"]\n",
    "for i in birds:\n",
    "    for k in os.listdir(input_file+i):\n",
    "        output_file = os.path.join(output+i,k.split(\".\")[0]+\".wav\")\n",
    "        input_f =  os.path.join(input_file+i,k)\n",
    "        # convert mp3 file to wav file\n",
    "        sound = AudioSegment.from_mp3(input_f)\n",
    "        sound.export(output_file, format=\"wav\")"
   ]
  },
  {
   "cell_type": "code",
   "execution_count": 10,
   "id": "4cc5cba5",
   "metadata": {
    "execution": {
     "iopub.execute_input": "2023-09-23T11:38:01.715397Z",
     "iopub.status.busy": "2023-09-23T11:38:01.715086Z",
     "iopub.status.idle": "2023-09-23T11:38:02.564487Z",
     "shell.execute_reply": "2023-09-23T11:38:02.563652Z"
    },
    "papermill": {
     "duration": 0.931393,
     "end_time": "2023-09-23T11:38:02.566906",
     "exception": false,
     "start_time": "2023-09-23T11:38:01.635513",
     "status": "completed"
    },
    "tags": []
   },
   "outputs": [],
   "source": [
    "b1=load_wav_16k_mono(\"/kaggle/working/result1.wav\")\n",
    "b2=load_wav_16k_mono(\"/kaggle/working/result.wav\")"
   ]
  },
  {
   "cell_type": "code",
   "execution_count": 11,
   "id": "d997238a",
   "metadata": {
    "execution": {
     "iopub.execute_input": "2023-09-23T11:38:02.735075Z",
     "iopub.status.busy": "2023-09-23T11:38:02.734793Z",
     "iopub.status.idle": "2023-09-23T11:38:03.266575Z",
     "shell.execute_reply": "2023-09-23T11:38:03.265856Z"
    },
    "papermill": {
     "duration": 0.618425,
     "end_time": "2023-09-23T11:38:03.268825",
     "exception": false,
     "start_time": "2023-09-23T11:38:02.650400",
     "status": "completed"
    },
    "tags": []
   },
   "outputs": [
    {
     "data": {
      "image/png": "[encoded data removed]",
      "text/plain": [
       "<Figure size 432x288 with 1 Axes>"
      ]
     },
     "metadata": {
      "needs_background": "light"
     },
     "output_type": "display_data"
    }
   ],
   "source": [
    "plt.plot(b2)\n",
    "plt.plot(b1)\n",
    "plt.show()"
   ]
  },
  {
   "cell_type": "code",
   "execution_count": 12,
   "id": "1ffb5a05",
   "metadata": {
    "execution": {
     "iopub.execute_input": "2023-09-23T11:38:03.439276Z",
     "iopub.status.busy": "2023-09-23T11:38:03.438525Z",
     "iopub.status.idle": "2023-09-23T11:38:03.743149Z",
     "shell.execute_reply": "2023-09-23T11:38:03.742399Z"
    },
    "papermill": {
     "duration": 0.39301,
     "end_time": "2023-09-23T11:38:03.745279",
     "exception": false,
     "start_time": "2023-09-23T11:38:03.352269",
     "status": "completed"
    },
    "tags": []
   },
   "outputs": [
    {
     "data": {
      "image/png": "[encoded data removed]",
      "text/plain": [
       "<Figure size 432x288 with 1 Axes>"
      ]
     },
     "metadata": {
      "needs_background": "light"
     },
     "output_type": "display_data"
    }
   ],
   "source": [
    "plt.plot(b1)\n",
    "plt.show()"
   ]
  },
  {
   "cell_type": "code",
   "execution_count": 13,
   "id": "51a75359",
   "metadata": {
    "execution": {
     "iopub.execute_input": "2023-09-23T11:38:03.961763Z",
     "iopub.status.busy": "2023-09-23T11:38:03.961483Z",
     "iopub.status.idle": "2023-09-23T11:38:04.218518Z",
     "shell.execute_reply": "2023-09-23T11:38:04.217841Z"
    },
    "papermill": {
     "duration": 0.344698,
     "end_time": "2023-09-23T11:38:04.220522",
     "exception": false,
     "start_time": "2023-09-23T11:38:03.875824",
     "status": "completed"
    },
    "tags": []
   },
   "outputs": [
    {
     "data": {
      "image/png": "[encoded data removed]",
      "text/plain": [
       "<Figure size 432x288 with 1 Axes>"
      ]
     },
     "metadata": {
      "needs_background": "light"
     },
     "output_type": "display_data"
    }
   ],
   "source": [
    "plt.plot(wave)\n",
    "plt.plot(nwave)\n",
    "plt.show()"
   ]
  },
  {
   "cell_type": "code",
   "execution_count": 14,
   "id": "71e0c82d",
   "metadata": {
    "execution": {
     "iopub.execute_input": "2023-09-23T11:38:04.385077Z",
     "iopub.status.busy": "2023-09-23T11:38:04.384805Z",
     "iopub.status.idle": "2023-09-23T11:38:04.388242Z",
     "shell.execute_reply": "2023-09-23T11:38:04.387507Z"
    },
    "papermill": {
     "duration": 0.087916,
     "end_time": "2023-09-23T11:38:04.390071",
     "exception": false,
     "start_time": "2023-09-23T11:38:04.302155",
     "status": "completed"
    },
    "tags": []
   },
   "outputs": [],
   "source": [
    "# POSITIVE=os.path.join('/kaggle/input','z-by-hp-unlocked-challenge-3-signal-processing','Parsed_Capuchinbird_Clips')\n",
    "# NEGATIVE=os.path.join('/kaggle/input','z-by-hp-unlocked-challenge-3-signal-processing','Parsed_Not_Capuchinbird_Clips')"
   ]
  },
  {
   "cell_type": "code",
   "execution_count": 15,
   "id": "65dfad16",
   "metadata": {
    "execution": {
     "iopub.execute_input": "2023-09-23T11:38:04.557366Z",
     "iopub.status.busy": "2023-09-23T11:38:04.557115Z",
     "iopub.status.idle": "2023-09-23T11:38:04.562542Z",
     "shell.execute_reply": "2023-09-23T11:38:04.561675Z"
    },
    "papermill": {
     "duration": 0.093351,
     "end_time": "2023-09-23T11:38:04.564788",
     "exception": false,
     "start_time": "2023-09-23T11:38:04.471437",
     "status": "completed"
    },
    "tags": []
   },
   "outputs": [],
   "source": [
    "bird1=os.path.join('/kaggle/working','pinjay')\n",
    "bird2=os.path.join('/kaggle/working','amecro')\n",
    "bird3=os.path.join('/kaggle/working','carwre')\n",
    "bird4=os.path.join('/kaggle/working','fiespa')\n",
    "bird5=os.path.join('/kaggle/working','foxspa')"
   ]
  },
  {
   "cell_type": "code",
   "execution_count": 16,
   "id": "ce490212",
   "metadata": {
    "execution": {
     "iopub.execute_input": "2023-09-23T11:38:04.730325Z",
     "iopub.status.busy": "2023-09-23T11:38:04.730082Z",
     "iopub.status.idle": "2023-09-23T11:38:04.768510Z",
     "shell.execute_reply": "2023-09-23T11:38:04.767767Z"
    },
    "papermill": {
     "duration": 0.123683,
     "end_time": "2023-09-23T11:38:04.770422",
     "exception": false,
     "start_time": "2023-09-23T11:38:04.646739",
     "status": "completed"
    },
    "tags": []
   },
   "outputs": [],
   "source": [
    "b1=tf.data.Dataset.list_files(bird1+'/*.wav')\n",
    "b2=tf.data.Dataset.list_files(bird2+'/*.wav')\n",
    "b3=tf.data.Dataset.list_files(bird3+'/*.wav')\n",
    "b4=tf.data.Dataset.list_files(bird4+'/*.wav')\n",
    "b5=tf.data.Dataset.list_files(bird5+'/*.wav')\n"
   ]
  },
  {
   "cell_type": "code",
   "execution_count": 17,
   "id": "64c57040",
   "metadata": {
    "execution": {
     "iopub.execute_input": "2023-09-23T11:38:04.938290Z",
     "iopub.status.busy": "2023-09-23T11:38:04.937537Z",
     "iopub.status.idle": "2023-09-23T11:38:04.941706Z",
     "shell.execute_reply": "2023-09-23T11:38:04.940908Z"
    },
    "papermill": {
     "duration": 0.090142,
     "end_time": "2023-09-23T11:38:04.943550",
     "exception": false,
     "start_time": "2023-09-23T11:38:04.853408",
     "status": "completed"
    },
    "tags": []
   },
   "outputs": [],
   "source": [
    "# b11= tf.data.Dataset.zip((b1,tf.data.Dataset.from_tensor_slices(tf.convert_to_tensor(np.array([0 for i in range(len(b1))])))))\n",
    "# b21= tf.data.Dataset.zip((b2,tf.data.Dataset.from_tensor_slices(tf.convert_to_tensor(np.array([1 for i in range(len(b2))])))))\n",
    "# b31= tf.data.Dataset.zip((b3,tf.data.Dataset.from_tensor_slices(tf.convert_to_tensor(np.array([2 for i in range(len(b3))])))))\n",
    "# b41= tf.data.Dataset.zip((b4,tf.data.Dataset.from_tensor_slices(tf.convert_to_tensor(np.array([3 for i in range(len(b4))])))))\n",
    "# b51= tf.data.Dataset.zip((b5,tf.data.Dataset.from_tensor_slices(tf.convert_to_tensor(np.array([4 for i in range(len(b5))])))))"
   ]
  },
  {
   "cell_type": "code",
   "execution_count": 18,
   "id": "9e6c1847",
   "metadata": {
    "execution": {
     "iopub.execute_input": "2023-09-23T11:38:05.110753Z",
     "iopub.status.busy": "2023-09-23T11:38:05.110473Z",
     "iopub.status.idle": "2023-09-23T11:38:05.130784Z",
     "shell.execute_reply": "2023-09-23T11:38:05.130100Z"
    },
    "papermill": {
     "duration": 0.108222,
     "end_time": "2023-09-23T11:38:05.132970",
     "exception": false,
     "start_time": "2023-09-23T11:38:05.024748",
     "status": "completed"
    },
    "tags": []
   },
   "outputs": [],
   "source": [
    "b11= tf.data.Dataset.zip((b1,tf.data.Dataset.from_tensor_slices(tf.convert_to_tensor(np.array([[1,0,0,0,0] for i in range(len(b1))])))))\n",
    "b21= tf.data.Dataset.zip((b2,tf.data.Dataset.from_tensor_slices(tf.convert_to_tensor(np.array([[0,1,0,0,0] for i in range(len(b2))])))))\n",
    "b31= tf.data.Dataset.zip((b3,tf.data.Dataset.from_tensor_slices(tf.convert_to_tensor(np.array([[0,0,1,0,0] for i in range(len(b3))])))))\n",
    "b41= tf.data.Dataset.zip((b4,tf.data.Dataset.from_tensor_slices(tf.convert_to_tensor(np.array([[0,0,0,1,0] for i in range(len(b4))])))))\n",
    "b51= tf.data.Dataset.zip((b5,tf.data.Dataset.from_tensor_slices(tf.convert_to_tensor(np.array([[0,0,0,0,1] for i in range(len(b5))])))))"
   ]
  },
  {
   "cell_type": "code",
   "execution_count": 19,
   "id": "71bf8125",
   "metadata": {
    "execution": {
     "iopub.execute_input": "2023-09-23T11:38:05.297151Z",
     "iopub.status.busy": "2023-09-23T11:38:05.296860Z",
     "iopub.status.idle": "2023-09-23T11:38:05.303630Z",
     "shell.execute_reply": "2023-09-23T11:38:05.302923Z"
    },
    "papermill": {
     "duration": 0.091045,
     "end_time": "2023-09-23T11:38:05.305786",
     "exception": false,
     "start_time": "2023-09-23T11:38:05.214741",
     "status": "completed"
    },
    "tags": []
   },
   "outputs": [],
   "source": [
    "data=(((b11.concatenate(b21)).concatenate(b31)).concatenate(b41)).concatenate(b51)\n"
   ]
  },
  {
   "cell_type": "code",
   "execution_count": 20,
   "id": "c7eecf93",
   "metadata": {
    "execution": {
     "iopub.execute_input": "2023-09-23T11:38:05.469896Z",
     "iopub.status.busy": "2023-09-23T11:38:05.469635Z",
     "iopub.status.idle": "2023-09-23T11:38:05.484985Z",
     "shell.execute_reply": "2023-09-23T11:38:05.484266Z"
    },
    "papermill": {
     "duration": 0.099832,
     "end_time": "2023-09-23T11:38:05.487093",
     "exception": false,
     "start_time": "2023-09-23T11:38:05.387261",
     "status": "completed"
    },
    "tags": []
   },
   "outputs": [
    {
     "name": "stdout",
     "output_type": "stream",
     "text": [
      "(<tf.Tensor: shape=(), dtype=string, numpy=b'/kaggle/working/pinjay/XC227470.wav'>, <tf.Tensor: shape=(5,), dtype=int64, numpy=array([1, 0, 0, 0, 0])>)\n"
     ]
    }
   ],
   "source": [
    "for i in data:\n",
    "    print(i)\n",
    "    break"
   ]
  },
  {
   "cell_type": "code",
   "execution_count": 21,
   "id": "7b5d98d8",
   "metadata": {
    "execution": {
     "iopub.execute_input": "2023-09-23T11:38:05.656940Z",
     "iopub.status.busy": "2023-09-23T11:38:05.656666Z",
     "iopub.status.idle": "2023-09-23T11:38:05.662894Z",
     "shell.execute_reply": "2023-09-23T11:38:05.662069Z"
    },
    "papermill": {
     "duration": 0.09412,
     "end_time": "2023-09-23T11:38:05.666187",
     "exception": false,
     "start_time": "2023-09-23T11:38:05.572067",
     "status": "completed"
    },
    "tags": []
   },
   "outputs": [
    {
     "data": {
      "text/plain": [
       "451"
      ]
     },
     "execution_count": 21,
     "metadata": {},
     "output_type": "execute_result"
    }
   ],
   "source": [
    "len(data)"
   ]
  },
  {
   "cell_type": "code",
   "execution_count": 22,
   "id": "6cf591e1",
   "metadata": {
    "execution": {
     "iopub.execute_input": "2023-09-23T11:38:05.832977Z",
     "iopub.status.busy": "2023-09-23T11:38:05.832271Z",
     "iopub.status.idle": "2023-09-23T11:38:05.837007Z",
     "shell.execute_reply": "2023-09-23T11:38:05.836069Z"
    },
    "papermill": {
     "duration": 0.090393,
     "end_time": "2023-09-23T11:38:05.838831",
     "exception": false,
     "start_time": "2023-09-23T11:38:05.748438",
     "status": "completed"
    },
    "tags": []
   },
   "outputs": [],
   "source": [
    "# pos.as_numpy_iterator().next()"
   ]
  },
  {
   "cell_type": "code",
   "execution_count": 23,
   "id": "290fadff",
   "metadata": {
    "execution": {
     "iopub.execute_input": "2023-09-23T11:38:06.005397Z",
     "iopub.status.busy": "2023-09-23T11:38:06.005154Z",
     "iopub.status.idle": "2023-09-23T11:38:06.008775Z",
     "shell.execute_reply": "2023-09-23T11:38:06.007921Z"
    },
    "papermill": {
     "duration": 0.088661,
     "end_time": "2023-09-23T11:38:06.010971",
     "exception": false,
     "start_time": "2023-09-23T11:38:05.922310",
     "status": "completed"
    },
    "tags": []
   },
   "outputs": [],
   "source": [
    "# a=tf.ones(len(neg))"
   ]
  },
  {
   "cell_type": "code",
   "execution_count": 24,
   "id": "3d5d74a5",
   "metadata": {
    "execution": {
     "iopub.execute_input": "2023-09-23T11:38:06.176287Z",
     "iopub.status.busy": "2023-09-23T11:38:06.175985Z",
     "iopub.status.idle": "2023-09-23T11:38:06.181224Z",
     "shell.execute_reply": "2023-09-23T11:38:06.180551Z"
    },
    "papermill": {
     "duration": 0.090105,
     "end_time": "2023-09-23T11:38:06.183145",
     "exception": false,
     "start_time": "2023-09-23T11:38:06.093040",
     "status": "completed"
    },
    "tags": []
   },
   "outputs": [],
   "source": [
    "#  positives=tf.data.Dataset.zip((pos,tf.data.Dataset.from_tensor_slices(tf.ones(len(pos)))))\n",
    "# # positives=tf.data.Dataset.zip((pos,tf.data.Dataset.from_tensor_slices(1)))\n",
    "# negatives=tf.data.Dataset.zip((neg,tf.data.Dataset.from_tensor_slices(tf.zeros(len(neg)))))\n",
    "# data=positives.concatenate(negatives)"
   ]
  },
  {
   "cell_type": "code",
   "execution_count": 25,
   "id": "c24e9728",
   "metadata": {
    "execution": {
     "iopub.execute_input": "2023-09-23T11:38:06.348506Z",
     "iopub.status.busy": "2023-09-23T11:38:06.347860Z",
     "iopub.status.idle": "2023-09-23T11:38:06.351297Z",
     "shell.execute_reply": "2023-09-23T11:38:06.350590Z"
    },
    "papermill": {
     "duration": 0.088139,
     "end_time": "2023-09-23T11:38:06.353123",
     "exception": false,
     "start_time": "2023-09-23T11:38:06.264984",
     "status": "completed"
    },
    "tags": []
   },
   "outputs": [],
   "source": [
    "# len(positives)"
   ]
  },
  {
   "cell_type": "code",
   "execution_count": 26,
   "id": "aa0ed876",
   "metadata": {
    "execution": {
     "iopub.execute_input": "2023-09-23T11:38:06.518121Z",
     "iopub.status.busy": "2023-09-23T11:38:06.517617Z",
     "iopub.status.idle": "2023-09-23T11:38:06.521315Z",
     "shell.execute_reply": "2023-09-23T11:38:06.520617Z"
    },
    "papermill": {
     "duration": 0.088255,
     "end_time": "2023-09-23T11:38:06.523127",
     "exception": false,
     "start_time": "2023-09-23T11:38:06.434872",
     "status": "completed"
    },
    "tags": []
   },
   "outputs": [],
   "source": [
    "# lengths=[]\n",
    "# for file in os.listdir(bird1):\n",
    "#     tensor_wave=load_wav_16k_mono(os.path.join(bird1,file))\n",
    "#     print(tensor_wave)\n",
    "#     lengths.append(len(tensor_wave))"
   ]
  },
  {
   "cell_type": "code",
   "execution_count": 27,
   "id": "14ea13c8",
   "metadata": {
    "execution": {
     "iopub.execute_input": "2023-09-23T11:38:06.692625Z",
     "iopub.status.busy": "2023-09-23T11:38:06.692365Z",
     "iopub.status.idle": "2023-09-23T11:38:06.696010Z",
     "shell.execute_reply": "2023-09-23T11:38:06.695283Z"
    },
    "papermill": {
     "duration": 0.08975,
     "end_time": "2023-09-23T11:38:06.697898",
     "exception": false,
     "start_time": "2023-09-23T11:38:06.608148",
     "status": "completed"
    },
    "tags": []
   },
   "outputs": [],
   "source": [
    "# lengths=[]\n",
    "# for file in os.listdir(os.path.join('/kaggle/input','z-by-hp-unlocked-challenge-3-signal-processing','Parsed_Capuchinbird_Clips')):\n",
    "#     print(file)\n",
    "#     tensor_wave=load_wav_16k_mono(os.path.join('/kaggle/input','z-by-hp-unlocked-challenge-3-signal-processing','Parsed_Capuchinbird_Clips',file))\n",
    "#     lengths.append(len(tensor_wave))"
   ]
  },
  {
   "cell_type": "code",
   "execution_count": 28,
   "id": "aceedaff",
   "metadata": {
    "execution": {
     "iopub.execute_input": "2023-09-23T11:38:06.863861Z",
     "iopub.status.busy": "2023-09-23T11:38:06.863194Z",
     "iopub.status.idle": "2023-09-23T11:38:06.869695Z",
     "shell.execute_reply": "2023-09-23T11:38:06.869001Z"
    },
    "papermill": {
     "duration": 0.092164,
     "end_time": "2023-09-23T11:38:06.871504",
     "exception": false,
     "start_time": "2023-09-23T11:38:06.779340",
     "status": "completed"
    },
    "tags": []
   },
   "outputs": [],
   "source": [
    "def preprocess(file_path,label):\n",
    "    wav=load_wav_16k_mono(file_path)\n",
    "    wav=wav[:48000]\n",
    "    zero_padding=tf.zeros([48000]-tf.shape(wav),dtype=tf.float32)\n",
    "    wav=tf.concat([zero_padding,wav],0)\n",
    "    spectrogram=tf.signal.stft(wav,frame_length=320,frame_step=32)\n",
    "    spectrogram=tf.abs(spectrogram)\n",
    "    spectrogram=tf.expand_dims(spectrogram,axis=2)\n",
    "    return spectrogram,label"
   ]
  },
  {
   "cell_type": "code",
   "execution_count": 29,
   "id": "6b7abf87",
   "metadata": {
    "execution": {
     "iopub.execute_input": "2023-09-23T11:38:07.038474Z",
     "iopub.status.busy": "2023-09-23T11:38:07.038212Z",
     "iopub.status.idle": "2023-09-23T11:38:07.048388Z",
     "shell.execute_reply": "2023-09-23T11:38:07.047665Z"
    },
    "papermill": {
     "duration": 0.095622,
     "end_time": "2023-09-23T11:38:07.050207",
     "exception": false,
     "start_time": "2023-09-23T11:38:06.954585",
     "status": "completed"
    },
    "tags": []
   },
   "outputs": [],
   "source": [
    "filepath,label=b11.shuffle(buffer_size=10000).as_numpy_iterator().next()"
   ]
  },
  {
   "cell_type": "code",
   "execution_count": 30,
   "id": "617b9f60",
   "metadata": {
    "execution": {
     "iopub.execute_input": "2023-09-23T11:38:07.218044Z",
     "iopub.status.busy": "2023-09-23T11:38:07.217375Z",
     "iopub.status.idle": "2023-09-23T11:38:07.797255Z",
     "shell.execute_reply": "2023-09-23T11:38:07.796419Z"
    },
    "papermill": {
     "duration": 0.666608,
     "end_time": "2023-09-23T11:38:07.799446",
     "exception": false,
     "start_time": "2023-09-23T11:38:07.132838",
     "status": "completed"
    },
    "tags": []
   },
   "outputs": [],
   "source": [
    "spectrogram,label=preprocess(filepath,label)"
   ]
  },
  {
   "cell_type": "code",
   "execution_count": 31,
   "id": "717cbcc8",
   "metadata": {
    "execution": {
     "iopub.execute_input": "2023-09-23T11:38:07.968174Z",
     "iopub.status.busy": "2023-09-23T11:38:07.967888Z",
     "iopub.status.idle": "2023-09-23T11:38:08.329361Z",
     "shell.execute_reply": "2023-09-23T11:38:08.328651Z"
    },
    "papermill": {
     "duration": 0.450411,
     "end_time": "2023-09-23T11:38:08.333793",
     "exception": false,
     "start_time": "2023-09-23T11:38:07.883382",
     "status": "completed"
    },
    "tags": []
   },
   "outputs": [
    {
     "data": {
      "image/png": "[encoded data removed]",
      "text/plain": [
       "<Figure size 2160x1440 with 1 Axes>"
      ]
     },
     "metadata": {
      "needs_background": "light"
     },
     "output_type": "display_data"
    }
   ],
   "source": [
    "plt.figure(figsize=(30,20))\n",
    "plt.imshow(tf.transpose(spectrogram)[0])\n",
    "plt.show()"
   ]
  },
  {
   "cell_type": "code",
   "execution_count": 32,
   "id": "61ef7be8",
   "metadata": {
    "execution": {
     "iopub.execute_input": "2023-09-23T11:38:08.509336Z",
     "iopub.status.busy": "2023-09-23T11:38:08.509072Z",
     "iopub.status.idle": "2023-09-23T11:38:08.522376Z",
     "shell.execute_reply": "2023-09-23T11:38:08.521551Z"
    },
    "papermill": {
     "duration": 0.102715,
     "end_time": "2023-09-23T11:38:08.524242",
     "exception": false,
     "start_time": "2023-09-23T11:38:08.421527",
     "status": "completed"
    },
    "tags": []
   },
   "outputs": [
    {
     "data": {
      "text/plain": [
       "(b'/kaggle/working/pinjay/XC256783.wav', array([1, 0, 0, 0, 0]))"
      ]
     },
     "execution_count": 32,
     "metadata": {},
     "output_type": "execute_result"
    }
   ],
   "source": [
    "data.as_numpy_iterator().next()"
   ]
  },
  {
   "cell_type": "code",
   "execution_count": 33,
   "id": "ec41d155",
   "metadata": {
    "execution": {
     "iopub.execute_input": "2023-09-23T11:38:08.713279Z",
     "iopub.status.busy": "2023-09-23T11:38:08.712618Z",
     "iopub.status.idle": "2023-09-23T11:38:09.356889Z",
     "shell.execute_reply": "2023-09-23T11:38:09.355997Z"
    },
    "papermill": {
     "duration": 0.745027,
     "end_time": "2023-09-23T11:38:09.359380",
     "exception": false,
     "start_time": "2023-09-23T11:38:08.614353",
     "status": "completed"
    },
    "tags": []
   },
   "outputs": [],
   "source": [
    "data=data.map(preprocess)\n",
    "data=data.cache()\n",
    "data=data.shuffle(buffer_size=1000)\n",
    "data=data.batch(8)\n",
    "data=data.prefetch(4)"
   ]
  },
  {
   "cell_type": "code",
   "execution_count": 34,
   "id": "d894b591",
   "metadata": {
    "execution": {
     "iopub.execute_input": "2023-09-23T11:38:09.536656Z",
     "iopub.status.busy": "2023-09-23T11:38:09.536113Z",
     "iopub.status.idle": "2023-09-23T11:38:09.546129Z",
     "shell.execute_reply": "2023-09-23T11:38:09.545431Z"
    },
    "papermill": {
     "duration": 0.100434,
     "end_time": "2023-09-23T11:38:09.548115",
     "exception": false,
     "start_time": "2023-09-23T11:38:09.447681",
     "status": "completed"
    },
    "tags": []
   },
   "outputs": [
    {
     "data": {
      "text/plain": [
       "57"
      ]
     },
     "execution_count": 34,
     "metadata": {},
     "output_type": "execute_result"
    }
   ],
   "source": [
    "len(data)"
   ]
  },
  {
   "cell_type": "code",
   "execution_count": 35,
   "id": "8ea9ff5a",
   "metadata": {
    "execution": {
     "iopub.execute_input": "2023-09-23T11:38:09.725905Z",
     "iopub.status.busy": "2023-09-23T11:38:09.725643Z",
     "iopub.status.idle": "2023-09-23T11:38:09.729155Z",
     "shell.execute_reply": "2023-09-23T11:38:09.728427Z"
    },
    "papermill": {
     "duration": 0.094761,
     "end_time": "2023-09-23T11:38:09.731005",
     "exception": false,
     "start_time": "2023-09-23T11:38:09.636244",
     "status": "completed"
    },
    "tags": []
   },
   "outputs": [],
   "source": [
    "# for i in data:\n",
    "#     print(i)"
   ]
  },
  {
   "cell_type": "code",
   "execution_count": 36,
   "id": "8ebf5a51",
   "metadata": {
    "execution": {
     "iopub.execute_input": "2023-09-23T11:38:09.910184Z",
     "iopub.status.busy": "2023-09-23T11:38:09.909910Z",
     "iopub.status.idle": "2023-09-23T11:38:09.916369Z",
     "shell.execute_reply": "2023-09-23T11:38:09.915583Z"
    },
    "papermill": {
     "duration": 0.100043,
     "end_time": "2023-09-23T11:38:09.918301",
     "exception": false,
     "start_time": "2023-09-23T11:38:09.818258",
     "status": "completed"
    },
    "tags": []
   },
   "outputs": [],
   "source": [
    "train=data.take(39)\n",
    "test=data.skip(39).take(18)"
   ]
  },
  {
   "cell_type": "code",
   "execution_count": 37,
   "id": "2b6a08ba",
   "metadata": {
    "execution": {
     "iopub.execute_input": "2023-09-23T11:38:10.098511Z",
     "iopub.status.busy": "2023-09-23T11:38:10.098246Z",
     "iopub.status.idle": "2023-09-23T11:39:30.240556Z",
     "shell.execute_reply": "2023-09-23T11:39:30.239840Z"
    },
    "papermill": {
     "duration": 80.321883,
     "end_time": "2023-09-23T11:39:30.330983",
     "exception": false,
     "start_time": "2023-09-23T11:38:10.009100",
     "status": "completed"
    },
    "tags": []
   },
   "outputs": [
    {
     "data": {
      "text/plain": [
       "(8, 1491, 257, 1)"
      ]
     },
     "execution_count": 37,
     "metadata": {},
     "output_type": "execute_result"
    }
   ],
   "source": [
    "samples,labels=train.as_numpy_iterator().next()\n",
    "samples.shape"
   ]
  },
  {
   "cell_type": "code",
   "execution_count": 38,
   "id": "1dc68efa",
   "metadata": {
    "execution": {
     "iopub.execute_input": "2023-09-23T11:39:30.509785Z",
     "iopub.status.busy": "2023-09-23T11:39:30.509493Z",
     "iopub.status.idle": "2023-09-23T11:39:30.598781Z",
     "shell.execute_reply": "2023-09-23T11:39:30.598041Z"
    },
    "papermill": {
     "duration": 0.18095,
     "end_time": "2023-09-23T11:39:30.600862",
     "exception": false,
     "start_time": "2023-09-23T11:39:30.419912",
     "status": "completed"
    },
    "tags": []
   },
   "outputs": [],
   "source": [
    "model=Sequential()\n",
    "model.add(Conv2D(8,(3,3),activation='relu',input_shape=(1491,257,1)))\n",
    "model.add(Conv2D(8,(3,3),activation='relu'))\n",
    "model.add(Conv2D(8,(3,3),activation='relu'))\n",
    "model.add(Flatten())\n",
    "model.add(Dense(128,activation='relu'))\n",
    "model.add(Dense(5,activation='sigmoid'))"
   ]
  },
  {
   "cell_type": "code",
   "execution_count": 39,
   "id": "c62c7b82",
   "metadata": {
    "execution": {
     "iopub.execute_input": "2023-09-23T11:39:30.781588Z",
     "iopub.status.busy": "2023-09-23T11:39:30.781318Z",
     "iopub.status.idle": "2023-09-23T11:39:30.802639Z",
     "shell.execute_reply": "2023-09-23T11:39:30.801928Z"
    },
    "papermill": {
     "duration": 0.114773,
     "end_time": "2023-09-23T11:39:30.804507",
     "exception": false,
     "start_time": "2023-09-23T11:39:30.689734",
     "status": "completed"
    },
    "tags": []
   },
   "outputs": [],
   "source": [
    "model.compile(optimizer ='Adam',loss='categorical_crossentropy',metrics=[tf.keras.metrics.Accuracy(), tf.keras.metrics.Recall(),tf.keras.metrics.Precision()])"
   ]
  },
  {
   "cell_type": "code",
   "execution_count": 40,
   "id": "5fca4c30",
   "metadata": {
    "execution": {
     "iopub.execute_input": "2023-09-23T11:39:30.987953Z",
     "iopub.status.busy": "2023-09-23T11:39:30.987675Z",
     "iopub.status.idle": "2023-09-23T11:39:30.996798Z",
     "shell.execute_reply": "2023-09-23T11:39:30.996045Z"
    },
    "papermill": {
     "duration": 0.105044,
     "end_time": "2023-09-23T11:39:30.998695",
     "exception": false,
     "start_time": "2023-09-23T11:39:30.893651",
     "status": "completed"
    },
    "tags": []
   },
   "outputs": [
    {
     "name": "stdout",
     "output_type": "stream",
     "text": [
      "Model: \"sequential\"\n",
      "_________________________________________________________________\n",
      "Layer (type)                 Output Shape              Param #   \n",
      "=================================================================\n",
      "conv2d (Conv2D)              (None, 1489, 255, 8)      80        \n",
      "_________________________________________________________________\n",
      "conv2d_1 (Conv2D)            (None, 1487, 253, 8)      584       \n",
      "_________________________________________________________________\n",
      "conv2d_2 (Conv2D)            (None, 1485, 251, 8)      584       \n",
      "_________________________________________________________________\n",
      "flatten (Flatten)            (None, 2981880)           0         \n",
      "_________________________________________________________________\n",
      "dense (Dense)                (None, 128)               381680768 \n",
      "_________________________________________________________________\n",
      "dense_1 (Dense)              (None, 5)                 645       \n",
      "=================================================================\n",
      "Total params: 381,682,661\n",
      "Trainable params: 381,682,661\n",
      "Non-trainable params: 0\n",
      "_________________________________________________________________\n"
     ]
    }
   ],
   "source": [
    "model.summary()"
   ]
  },
  {
   "cell_type": "code",
   "execution_count": 41,
   "id": "28681e03",
   "metadata": {
    "execution": {
     "iopub.execute_input": "2023-09-23T11:39:31.191208Z",
     "iopub.status.busy": "2023-09-23T11:39:31.190847Z",
     "iopub.status.idle": "2023-09-23T11:44:02.475037Z",
     "shell.execute_reply": "2023-09-23T11:44:02.474149Z"
    },
    "papermill": {
     "duration": 271.388906,
     "end_time": "2023-09-23T11:44:02.477446",
     "exception": false,
     "start_time": "2023-09-23T11:39:31.088540",
     "status": "completed"
    },
    "tags": []
   },
   "outputs": [
    {
     "name": "stdout",
     "output_type": "stream",
     "text": [
      "Epoch 1/30\n",
      "39/39 [==============================] - 15s 201ms/step - loss: 3.9025 - accuracy: 0.0179 - recall: 0.7628 - precision: 0.3005 - val_loss: 0.8184 - val_accuracy: 0.0086 - val_recall: 0.9353 - val_precision: 0.3801\n",
      "Epoch 2/30\n",
      "39/39 [==============================] - 7s 187ms/step - loss: 0.8162 - accuracy: 0.0147 - recall: 0.9199 - precision: 0.3638 - val_loss: 0.6248 - val_accuracy: 0.0331 - val_recall: 0.9640 - val_precision: 0.4161\n",
      "Epoch 3/30\n",
      "39/39 [==============================] - 7s 185ms/step - loss: 0.5480 - accuracy: 0.0481 - recall: 0.9615 - precision: 0.3958 - val_loss: 0.4388 - val_accuracy: 0.0619 - val_recall: 0.9928 - val_precision: 0.4207\n",
      "Epoch 4/30\n",
      "39/39 [==============================] - 7s 185ms/step - loss: 0.4471 - accuracy: 0.0609 - recall: 0.9808 - precision: 0.4215 - val_loss: 0.3051 - val_accuracy: 0.0532 - val_recall: 0.9856 - val_precision: 0.4448\n",
      "Epoch 5/30\n",
      "39/39 [==============================] - 7s 189ms/step - loss: 0.3175 - accuracy: 0.0500 - recall: 0.9744 - precision: 0.4464 - val_loss: 0.1715 - val_accuracy: 0.0748 - val_recall: 0.9856 - val_precision: 0.4660\n",
      "Epoch 6/30\n",
      "39/39 [==============================] - 7s 189ms/step - loss: 0.2575 - accuracy: 0.0731 - recall: 0.9647 - precision: 0.4433 - val_loss: 0.2338 - val_accuracy: 0.0921 - val_recall: 1.0000 - val_precision: 0.4760\n",
      "Epoch 7/30\n",
      "39/39 [==============================] - 7s 187ms/step - loss: 0.3436 - accuracy: 0.1154 - recall: 0.9872 - precision: 0.4496 - val_loss: 0.1872 - val_accuracy: 0.1079 - val_recall: 0.9928 - val_precision: 0.4437\n",
      "Epoch 8/30\n",
      "39/39 [==============================] - 7s 186ms/step - loss: 0.1768 - accuracy: 0.0808 - recall: 0.9936 - precision: 0.4697 - val_loss: 0.0994 - val_accuracy: 0.0906 - val_recall: 0.9856 - val_precision: 0.4774\n",
      "Epoch 9/30\n",
      "39/39 [==============================] - 7s 191ms/step - loss: 0.2039 - accuracy: 0.0897 - recall: 0.9808 - precision: 0.4766 - val_loss: 0.1257 - val_accuracy: 0.0906 - val_recall: 1.0000 - val_precision: 0.5073\n",
      "Epoch 10/30\n",
      "39/39 [==============================] - 7s 188ms/step - loss: 0.1211 - accuracy: 0.1173 - recall: 0.9904 - precision: 0.4813 - val_loss: 0.0643 - val_accuracy: 0.1511 - val_recall: 0.9928 - val_precision: 0.4539\n",
      "Epoch 11/30\n",
      "39/39 [==============================] - 7s 189ms/step - loss: 0.0816 - accuracy: 0.1449 - recall: 0.9968 - precision: 0.4852 - val_loss: 0.0470 - val_accuracy: 0.1180 - val_recall: 0.9928 - val_precision: 0.5169\n",
      "Epoch 12/30\n",
      "39/39 [==============================] - 7s 188ms/step - loss: 0.0727 - accuracy: 0.1340 - recall: 0.9968 - precision: 0.5065 - val_loss: 0.0557 - val_accuracy: 0.1295 - val_recall: 1.0000 - val_precision: 0.5055\n",
      "Epoch 13/30\n",
      "39/39 [==============================] - 7s 186ms/step - loss: 0.0523 - accuracy: 0.1301 - recall: 0.9968 - precision: 0.4976 - val_loss: 0.1236 - val_accuracy: 0.1223 - val_recall: 0.9928 - val_precision: 0.4929\n",
      "Epoch 14/30\n",
      "39/39 [==============================] - 7s 184ms/step - loss: 0.0472 - accuracy: 0.1359 - recall: 0.9968 - precision: 0.4929 - val_loss: 0.0475 - val_accuracy: 0.1367 - val_recall: 1.0000 - val_precision: 0.4860\n",
      "Epoch 15/30\n",
      "39/39 [==============================] - 7s 185ms/step - loss: 0.0351 - accuracy: 0.1526 - recall: 1.0000 - precision: 0.4830 - val_loss: 0.0472 - val_accuracy: 0.1511 - val_recall: 1.0000 - val_precision: 0.4618\n",
      "Epoch 16/30\n",
      "39/39 [==============================] - 7s 190ms/step - loss: 0.0239 - accuracy: 0.1673 - recall: 1.0000 - precision: 0.4575 - val_loss: 0.0146 - val_accuracy: 0.1669 - val_recall: 1.0000 - val_precision: 0.4618\n",
      "Epoch 17/30\n",
      "39/39 [==============================] - 7s 188ms/step - loss: 0.0167 - accuracy: 0.1712 - recall: 1.0000 - precision: 0.4636 - val_loss: 0.0637 - val_accuracy: 0.1799 - val_recall: 1.0000 - val_precision: 0.4427\n",
      "Epoch 18/30\n",
      "39/39 [==============================] - 7s 187ms/step - loss: 0.0375 - accuracy: 0.1686 - recall: 1.0000 - precision: 0.4785 - val_loss: 0.0260 - val_accuracy: 0.1640 - val_recall: 1.0000 - val_precision: 0.4860\n",
      "Epoch 19/30\n",
      "39/39 [==============================] - 7s 187ms/step - loss: 0.0271 - accuracy: 0.1436 - recall: 1.0000 - precision: 0.5098 - val_loss: 0.0165 - val_accuracy: 0.1511 - val_recall: 1.0000 - val_precision: 0.5516\n",
      "Epoch 20/30\n",
      "39/39 [==============================] - 7s 187ms/step - loss: 0.0120 - accuracy: 0.1654 - recall: 1.0000 - precision: 0.5098 - val_loss: 0.0116 - val_accuracy: 0.1712 - val_recall: 1.0000 - val_precision: 0.4860\n",
      "Epoch 21/30\n",
      "39/39 [==============================] - 7s 186ms/step - loss: 0.0143 - accuracy: 0.1660 - recall: 1.0000 - precision: 0.5217 - val_loss: 0.0093 - val_accuracy: 0.1784 - val_recall: 1.0000 - val_precision: 0.4877\n",
      "Epoch 22/30\n",
      "39/39 [==============================] - 7s 188ms/step - loss: 0.0075 - accuracy: 0.1769 - recall: 1.0000 - precision: 0.4921 - val_loss: 0.0011 - val_accuracy: 0.1640 - val_recall: 1.0000 - val_precision: 0.5110\n",
      "Epoch 23/30\n",
      "39/39 [==============================] - 7s 188ms/step - loss: 0.0941 - accuracy: 0.1353 - recall: 1.0000 - precision: 0.4992 - val_loss: 0.0858 - val_accuracy: 0.1137 - val_recall: 1.0000 - val_precision: 0.5092\n",
      "Epoch 24/30\n",
      "39/39 [==============================] - 7s 188ms/step - loss: 0.0850 - accuracy: 0.1583 - recall: 1.0000 - precision: 0.4815 - val_loss: 0.8007 - val_accuracy: 0.1899 - val_recall: 0.9928 - val_precision: 0.4646\n",
      "Epoch 25/30\n",
      "39/39 [==============================] - 7s 187ms/step - loss: 1.6087 - accuracy: 0.1154 - recall: 0.9615 - precision: 0.4658 - val_loss: 0.5020 - val_accuracy: 0.0201 - val_recall: 0.9856 - val_precision: 0.4448\n",
      "Epoch 26/30\n",
      "39/39 [==============================] - 7s 188ms/step - loss: 0.6561 - accuracy: 0.0282 - recall: 0.9679 - precision: 0.4327 - val_loss: 0.7706 - val_accuracy: 0.0633 - val_recall: 0.9856 - val_precision: 0.4910\n",
      "Epoch 27/30\n",
      "39/39 [==============================] - 7s 187ms/step - loss: 0.3781 - accuracy: 0.0596 - recall: 0.9744 - precision: 0.4887 - val_loss: 0.2486 - val_accuracy: 0.0388 - val_recall: 0.9928 - val_precision: 0.5391\n",
      "Epoch 28/30\n",
      "39/39 [==============================] - 7s 189ms/step - loss: 0.1551 - accuracy: 0.0788 - recall: 0.9872 - precision: 0.5442 - val_loss: 0.1008 - val_accuracy: 0.1050 - val_recall: 0.9928 - val_precision: 0.5520\n",
      "Epoch 29/30\n",
      "39/39 [==============================] - 7s 186ms/step - loss: 0.1383 - accuracy: 0.1058 - recall: 0.9904 - precision: 0.5374 - val_loss: 0.1840 - val_accuracy: 0.0921 - val_recall: 1.0000 - val_precision: 0.5494\n",
      "Epoch 30/30\n",
      "39/39 [==============================] - 7s 187ms/step - loss: 0.2242 - accuracy: 0.0833 - recall: 0.9936 - precision: 0.5647 - val_loss: 0.1648 - val_accuracy: 0.0763 - val_recall: 0.9784 - val_precision: 0.5939\n"
     ]
    }
   ],
   "source": [
    "hist=model.fit(train,epochs=30,validation_data=test)"
   ]
  },
  {
   "cell_type": "code",
   "execution_count": 42,
   "id": "1dd51119",
   "metadata": {
    "execution": {
     "iopub.execute_input": "2023-09-23T11:44:03.617797Z",
     "iopub.status.busy": "2023-09-23T11:44:03.617440Z",
     "iopub.status.idle": "2023-09-23T11:44:03.886371Z",
     "shell.execute_reply": "2023-09-23T11:44:03.885642Z"
    },
    "papermill": {
     "duration": 0.856465,
     "end_time": "2023-09-23T11:44:03.888500",
     "exception": false,
     "start_time": "2023-09-23T11:44:03.032035",
     "status": "completed"
    },
    "tags": []
   },
   "outputs": [
    {
     "data": {
      "image/png": "[encoded data removed]",
      "text/plain": [
       "<Figure size 432x288 with 1 Axes>"
      ]
     },
     "metadata": {
      "needs_background": "light"
     },
     "output_type": "display_data"
    }
   ],
   "source": [
    "plt.title('Loss')\n",
    "plt.plot(hist.history['loss'],'r')\n",
    "plt.plot(hist.history['val_loss'],'b')\n",
    "plt.show()"
   ]
  },
  {
   "cell_type": "code",
   "execution_count": 43,
   "id": "bca2f1f8",
   "metadata": {
    "execution": {
     "iopub.execute_input": "2023-09-23T11:44:05.007394Z",
     "iopub.status.busy": "2023-09-23T11:44:05.007114Z",
     "iopub.status.idle": "2023-09-23T11:44:05.204511Z",
     "shell.execute_reply": "2023-09-23T11:44:05.203832Z"
    },
    "papermill": {
     "duration": 0.755603,
     "end_time": "2023-09-23T11:44:05.206500",
     "exception": false,
     "start_time": "2023-09-23T11:44:04.450897",
     "status": "completed"
    },
    "tags": []
   },
   "outputs": [
    {
     "data": {
      "image/png": "[encoded data removed]",
      "text/plain": [
       "<Figure size 432x288 with 1 Axes>"
      ]
     },
     "metadata": {
      "needs_background": "light"
     },
     "output_type": "display_data"
    }
   ],
   "source": [
    "plt.title('Accuracy')\n",
    "plt.plot(hist.history['accuracy'],'r')\n",
    "plt.plot(hist.history['val_accuracy'],'b')\n",
    "plt.show()"
   ]
  },
  {
   "cell_type": "code",
   "execution_count": 44,
   "id": "cdf465ba",
   "metadata": {
    "execution": {
     "iopub.execute_input": "2023-09-23T11:44:06.324923Z",
     "iopub.status.busy": "2023-09-23T11:44:06.324644Z",
     "iopub.status.idle": "2023-09-23T11:44:06.517672Z",
     "shell.execute_reply": "2023-09-23T11:44:06.516856Z"
    },
    "papermill": {
     "duration": 0.757462,
     "end_time": "2023-09-23T11:44:06.519708",
     "exception": false,
     "start_time": "2023-09-23T11:44:05.762246",
     "status": "completed"
    },
    "tags": []
   },
   "outputs": [
    {
     "data": {
      "image/png": "[encoded data removed]",
      "text/plain": [
       "<Figure size 432x288 with 1 Axes>"
      ]
     },
     "metadata": {
      "needs_background": "light"
     },
     "output_type": "display_data"
    }
   ],
   "source": [
    "plt.title('Precision')\n",
    "plt.plot(hist.history['precision'],'r')\n",
    "plt.plot(hist.history['val_precision'],'b')\n",
    "plt.show()"
   ]
  },
  {
   "cell_type": "code",
   "execution_count": 45,
   "id": "84252847",
   "metadata": {
    "execution": {
     "iopub.execute_input": "2023-09-23T11:44:07.642716Z",
     "iopub.status.busy": "2023-09-23T11:44:07.642434Z",
     "iopub.status.idle": "2023-09-23T11:44:07.647828Z",
     "shell.execute_reply": "2023-09-23T11:44:07.647123Z"
    },
    "papermill": {
     "duration": 0.571331,
     "end_time": "2023-09-23T11:44:07.650243",
     "exception": false,
     "start_time": "2023-09-23T11:44:07.078912",
     "status": "completed"
    },
    "tags": []
   },
   "outputs": [
    {
     "data": {
      "text/plain": [
       "dict_keys(['loss', 'accuracy', 'recall', 'precision', 'val_loss', 'val_accuracy', 'val_recall', 'val_precision'])"
      ]
     },
     "execution_count": 45,
     "metadata": {},
     "output_type": "execute_result"
    }
   ],
   "source": [
    "hist.history.keys()"
   ]
  },
  {
   "cell_type": "code",
   "execution_count": 46,
   "id": "e07c805f",
   "metadata": {
    "execution": {
     "iopub.execute_input": "2023-09-23T11:44:08.770764Z",
     "iopub.status.busy": "2023-09-23T11:44:08.770479Z",
     "iopub.status.idle": "2023-09-23T11:44:08.954642Z",
     "shell.execute_reply": "2023-09-23T11:44:08.953854Z"
    },
    "papermill": {
     "duration": 0.746402,
     "end_time": "2023-09-23T11:44:08.956655",
     "exception": false,
     "start_time": "2023-09-23T11:44:08.210253",
     "status": "completed"
    },
    "tags": []
   },
   "outputs": [
    {
     "data": {
      "image/png": "[encoded data removed]",
      "text/plain": [
       "<Figure size 432x288 with 1 Axes>"
      ]
     },
     "metadata": {
      "needs_background": "light"
     },
     "output_type": "display_data"
    }
   ],
   "source": [
    "plt.title('Recall')\n",
    "plt.plot(hist.history['recall'],'r')\n",
    "plt.plot(hist.history['val_recall'],'b')\n",
    "plt.show()"
   ]
  },
  {
   "cell_type": "code",
   "execution_count": 47,
   "id": "99bd523c",
   "metadata": {
    "execution": {
     "iopub.execute_input": "2023-09-23T11:44:10.088312Z",
     "iopub.status.busy": "2023-09-23T11:44:10.087945Z",
     "iopub.status.idle": "2023-09-23T11:44:10.275949Z",
     "shell.execute_reply": "2023-09-23T11:44:10.275136Z"
    },
    "papermill": {
     "duration": 0.756413,
     "end_time": "2023-09-23T11:44:10.278570",
     "exception": false,
     "start_time": "2023-09-23T11:44:09.522157",
     "status": "completed"
    },
    "tags": []
   },
   "outputs": [],
   "source": [
    "X_test,y_test=test.as_numpy_iterator().next()"
   ]
  },
  {
   "cell_type": "code",
   "execution_count": 48,
   "id": "50744d49",
   "metadata": {
    "execution": {
     "iopub.execute_input": "2023-09-23T11:44:11.708210Z",
     "iopub.status.busy": "2023-09-23T11:44:11.707867Z",
     "iopub.status.idle": "2023-09-23T11:44:11.722940Z",
     "shell.execute_reply": "2023-09-23T11:44:11.722248Z"
    },
    "papermill": {
     "duration": 0.819817,
     "end_time": "2023-09-23T11:44:11.725709",
     "exception": false,
     "start_time": "2023-09-23T11:44:10.905892",
     "status": "completed"
    },
    "tags": []
   },
   "outputs": [
    {
     "data": {
      "text/plain": [
       "array([[[[2.35422340e-06],\n",
       "         [3.75653849e-06],\n",
       "         [6.14623377e-06],\n",
       "         ...,\n",
       "         [2.91111721e-08],\n",
       "         [1.22458044e-08],\n",
       "         [6.65431799e-09]],\n",
       "\n",
       "        [[8.89137300e-06],\n",
       "         [1.23987329e-05],\n",
       "         [1.86309353e-05],\n",
       "         ...,\n",
       "         [6.26323313e-08],\n",
       "         [2.46880418e-08],\n",
       "         [6.13908924e-11]],\n",
       "\n",
       "        [[3.01728360e-05],\n",
       "         [3.36559460e-05],\n",
       "         [4.09474233e-05],\n",
       "         ...,\n",
       "         [1.43480122e-07],\n",
       "         [9.42980307e-08],\n",
       "         [7.63766366e-08]],\n",
       "\n",
       "        ...,\n",
       "\n",
       "        [[2.27236003e-03],\n",
       "         [2.05368549e-02],\n",
       "         [7.92085081e-02],\n",
       "         ...,\n",
       "         [1.13912429e-04],\n",
       "         [6.68674620e-05],\n",
       "         [3.54722142e-05]],\n",
       "\n",
       "        [[4.81879711e-03],\n",
       "         [2.97364965e-02],\n",
       "         [7.45868608e-02],\n",
       "         ...,\n",
       "         [9.76152951e-05],\n",
       "         [8.44536698e-05],\n",
       "         [6.30915165e-05]],\n",
       "\n",
       "        [[1.88113004e-02],\n",
       "         [3.48473415e-02],\n",
       "         [5.14420569e-02],\n",
       "         ...,\n",
       "         [1.66806014e-04],\n",
       "         [4.46178783e-05],\n",
       "         [1.42604113e-05]]],\n",
       "\n",
       "\n",
       "       [[[3.68650071e-04],\n",
       "         [3.84185259e-04],\n",
       "         [5.25068783e-04],\n",
       "         ...,\n",
       "         [9.47746685e-06],\n",
       "         [1.26957657e-05],\n",
       "         [8.57189298e-06]],\n",
       "\n",
       "        [[2.87244096e-04],\n",
       "         [1.47874482e-04],\n",
       "         [3.59225465e-04],\n",
       "         ...,\n",
       "         [9.07454887e-06],\n",
       "         [9.27107794e-06],\n",
       "         [1.25626102e-05]],\n",
       "\n",
       "        [[2.78981403e-04],\n",
       "         [1.83707220e-04],\n",
       "         [3.41431558e-04],\n",
       "         ...,\n",
       "         [1.07027254e-05],\n",
       "         [1.49754660e-05],\n",
       "         [4.70876694e-06]],\n",
       "\n",
       "        ...,\n",
       "\n",
       "        [[4.37653624e-04],\n",
       "         [1.43027355e-04],\n",
       "         [3.47214751e-04],\n",
       "         ...,\n",
       "         [4.37729104e-05],\n",
       "         [2.65240487e-05],\n",
       "         [4.94532287e-07]],\n",
       "\n",
       "        [[6.67431392e-04],\n",
       "         [5.25019364e-04],\n",
       "         [5.91247168e-04],\n",
       "         ...,\n",
       "         [4.43022800e-05],\n",
       "         [2.07920421e-05],\n",
       "         [1.48732215e-06]],\n",
       "\n",
       "        [[1.10092852e-03],\n",
       "         [1.05129729e-03],\n",
       "         [9.48875677e-04],\n",
       "         ...,\n",
       "         [3.09182687e-05],\n",
       "         [2.08174915e-05],\n",
       "         [4.77675349e-06]]],\n",
       "\n",
       "\n",
       "       [[[2.25110707e-05],\n",
       "         [3.34735378e-05],\n",
       "         [5.71958808e-05],\n",
       "         ...,\n",
       "         [1.00086106e-06],\n",
       "         [3.61004709e-07],\n",
       "         [1.88693775e-07]],\n",
       "\n",
       "        [[1.29045293e-05],\n",
       "         [2.87247167e-05],\n",
       "         [6.19247585e-05],\n",
       "         ...,\n",
       "         [1.13104761e-06],\n",
       "         [4.49102856e-07],\n",
       "         [3.33166099e-08]],\n",
       "\n",
       "        [[3.67724933e-05],\n",
       "         [1.69892846e-05],\n",
       "         [8.41511137e-05],\n",
       "         ...,\n",
       "         [1.12722080e-06],\n",
       "         [4.92753145e-07],\n",
       "         [2.23175448e-07]],\n",
       "\n",
       "        ...,\n",
       "\n",
       "        [[4.87145782e-03],\n",
       "         [5.86358970e-03],\n",
       "         [5.37119200e-03],\n",
       "         ...,\n",
       "         [4.17975971e-05],\n",
       "         [2.14305310e-05],\n",
       "         [9.38773155e-06]],\n",
       "\n",
       "        [[5.59553504e-04],\n",
       "         [6.90837437e-03],\n",
       "         [7.81392492e-03],\n",
       "         ...,\n",
       "         [3.63773761e-05],\n",
       "         [2.45251740e-05],\n",
       "         [1.40517950e-05]],\n",
       "\n",
       "        [[5.67570329e-03],\n",
       "         [9.44699626e-03],\n",
       "         [1.18025318e-02],\n",
       "         ...,\n",
       "         [3.55952761e-05],\n",
       "         [2.25487565e-05],\n",
       "         [6.28829002e-06]]],\n",
       "\n",
       "\n",
       "       ...,\n",
       "\n",
       "\n",
       "       [[[1.72515935e-03],\n",
       "         [2.40766304e-03],\n",
       "         [9.39051528e-03],\n",
       "         ...,\n",
       "         [4.39577605e-07],\n",
       "         [5.83059091e-07],\n",
       "         [1.30210537e-07]],\n",
       "\n",
       "        [[1.94283552e-04],\n",
       "         [1.02925627e-03],\n",
       "         [9.38878953e-03],\n",
       "         ...,\n",
       "         [5.35139918e-07],\n",
       "         [5.06074343e-07],\n",
       "         [1.00000761e-07]],\n",
       "\n",
       "        [[9.06543864e-04],\n",
       "         [8.84890091e-04],\n",
       "         [9.26713552e-03],\n",
       "         ...,\n",
       "         [1.43667833e-07],\n",
       "         [3.77904456e-07],\n",
       "         [3.52913048e-07]],\n",
       "\n",
       "        ...,\n",
       "\n",
       "        [[1.08413637e-01],\n",
       "         [3.35979164e-02],\n",
       "         [3.56371075e-01],\n",
       "         ...,\n",
       "         [8.40744979e-05],\n",
       "         [3.58107827e-05],\n",
       "         [2.77943909e-05]],\n",
       "\n",
       "        [[7.31478631e-03],\n",
       "         [3.60812843e-02],\n",
       "         [2.93903649e-01],\n",
       "         ...,\n",
       "         [8.74106408e-05],\n",
       "         [4.26265688e-05],\n",
       "         [2.30148435e-05]],\n",
       "\n",
       "        [[6.37594424e-03],\n",
       "         [4.07387912e-02],\n",
       "         [2.84331948e-01],\n",
       "         ...,\n",
       "         [8.76615959e-05],\n",
       "         [3.85401945e-05],\n",
       "         [1.88741833e-05]]],\n",
       "\n",
       "\n",
       "       [[[1.18610646e-04],\n",
       "         [2.23161565e-04],\n",
       "         [3.64569918e-04],\n",
       "         ...,\n",
       "         [4.64683382e-07],\n",
       "         [3.46353971e-07],\n",
       "         [4.00104909e-08]],\n",
       "\n",
       "        [[2.35163134e-05],\n",
       "         [2.17159875e-04],\n",
       "         [4.23919089e-04],\n",
       "         ...,\n",
       "         [5.68969824e-07],\n",
       "         [4.37904390e-07],\n",
       "         [1.57782779e-07]],\n",
       "\n",
       "        [[6.36473706e-05],\n",
       "         [2.06818659e-04],\n",
       "         [4.37643437e-04],\n",
       "         ...,\n",
       "         [6.15818351e-07],\n",
       "         [3.29614124e-07],\n",
       "         [2.08881829e-07]],\n",
       "\n",
       "        ...,\n",
       "\n",
       "        [[1.96273811e-03],\n",
       "         [1.92361546e-03],\n",
       "         [6.05615927e-03],\n",
       "         ...,\n",
       "         [6.75113870e-06],\n",
       "         [8.68578979e-07],\n",
       "         [2.74856575e-07]],\n",
       "\n",
       "        [[2.41627870e-03],\n",
       "         [3.43651249e-04],\n",
       "         [5.72364405e-03],\n",
       "         ...,\n",
       "         [6.17108981e-06],\n",
       "         [1.60223487e-06],\n",
       "         [1.44820660e-07]],\n",
       "\n",
       "        [[1.93651509e-03],\n",
       "         [2.50388449e-03],\n",
       "         [6.02223817e-03],\n",
       "         ...,\n",
       "         [6.66245614e-06],\n",
       "         [1.44433193e-06],\n",
       "         [2.33273022e-06]]],\n",
       "\n",
       "\n",
       "       [[[1.40194571e+00],\n",
       "         [1.28008842e+00],\n",
       "         [8.68841469e-01],\n",
       "         ...,\n",
       "         [9.88125685e-05],\n",
       "         [5.77337887e-05],\n",
       "         [3.23057175e-05]],\n",
       "\n",
       "        [[2.80154467e+00],\n",
       "         [2.57211089e+00],\n",
       "         [2.01738167e+00],\n",
       "         ...,\n",
       "         [8.23283408e-05],\n",
       "         [5.50722398e-05],\n",
       "         [6.54459000e-05]],\n",
       "\n",
       "        [[4.47301435e+00],\n",
       "         [4.05680895e+00],\n",
       "         [3.25624514e+00],\n",
       "         ...,\n",
       "         [9.62624399e-05],\n",
       "         [4.78018846e-05],\n",
       "         [4.24385071e-05]],\n",
       "\n",
       "        ...,\n",
       "\n",
       "        [[3.83616924e-01],\n",
       "         [2.95520514e-01],\n",
       "         [1.25675857e-01],\n",
       "         ...,\n",
       "         [1.80895659e-05],\n",
       "         [7.48874982e-06],\n",
       "         [2.22027302e-06]],\n",
       "\n",
       "        [[3.84853601e-01],\n",
       "         [3.06362540e-01],\n",
       "         [1.60072446e-01],\n",
       "         ...,\n",
       "         [2.04615772e-05],\n",
       "         [3.56292230e-06],\n",
       "         [2.01165676e-06]],\n",
       "\n",
       "        [[3.85559261e-01],\n",
       "         [3.06134939e-01],\n",
       "         [1.48583591e-01],\n",
       "         ...,\n",
       "         [1.73938970e-05],\n",
       "         [8.74341731e-06],\n",
       "         [3.99351120e-06]]]], dtype=float32)"
      ]
     },
     "execution_count": 48,
     "metadata": {},
     "output_type": "execute_result"
    }
   ],
   "source": [
    "X_test"
   ]
  },
  {
   "cell_type": "code",
   "execution_count": 49,
   "id": "8d702f3b",
   "metadata": {
    "execution": {
     "iopub.execute_input": "2023-09-23T11:44:13.029018Z",
     "iopub.status.busy": "2023-09-23T11:44:13.028726Z",
     "iopub.status.idle": "2023-09-23T11:44:13.034701Z",
     "shell.execute_reply": "2023-09-23T11:44:13.033853Z"
    },
    "papermill": {
     "duration": 0.572285,
     "end_time": "2023-09-23T11:44:13.037922",
     "exception": false,
     "start_time": "2023-09-23T11:44:12.465637",
     "status": "completed"
    },
    "tags": []
   },
   "outputs": [
    {
     "data": {
      "text/plain": [
       "array([[1, 0, 0, 0, 0],\n",
       "       [0, 0, 1, 0, 0],\n",
       "       [0, 0, 0, 1, 0],\n",
       "       [0, 0, 0, 1, 0],\n",
       "       [0, 0, 0, 0, 1],\n",
       "       [0, 0, 1, 0, 0],\n",
       "       [0, 0, 0, 1, 0],\n",
       "       [0, 0, 0, 0, 1]])"
      ]
     },
     "execution_count": 49,
     "metadata": {},
     "output_type": "execute_result"
    }
   ],
   "source": [
    "y_test"
   ]
  },
  {
   "cell_type": "code",
   "execution_count": 50,
   "id": "1d1b3ceb",
   "metadata": {
    "execution": {
     "iopub.execute_input": "2023-09-23T11:44:14.287079Z",
     "iopub.status.busy": "2023-09-23T11:44:14.286777Z",
     "iopub.status.idle": "2023-09-23T11:44:14.503462Z",
     "shell.execute_reply": "2023-09-23T11:44:14.502687Z"
    },
    "papermill": {
     "duration": 0.906042,
     "end_time": "2023-09-23T11:44:14.505666",
     "exception": false,
     "start_time": "2023-09-23T11:44:13.599624",
     "status": "completed"
    },
    "tags": []
   },
   "outputs": [],
   "source": [
    "y_hat=model.predict(X_test)"
   ]
  },
  {
   "cell_type": "code",
   "execution_count": 51,
   "id": "0a45d272",
   "metadata": {
    "execution": {
     "iopub.execute_input": "2023-09-23T11:44:15.675855Z",
     "iopub.status.busy": "2023-09-23T11:44:15.675562Z",
     "iopub.status.idle": "2023-09-23T11:44:15.681663Z",
     "shell.execute_reply": "2023-09-23T11:44:15.680867Z"
    },
    "papermill": {
     "duration": 0.596171,
     "end_time": "2023-09-23T11:44:15.684450",
     "exception": false,
     "start_time": "2023-09-23T11:44:15.088279",
     "status": "completed"
    },
    "tags": []
   },
   "outputs": [
    {
     "name": "stdout",
     "output_type": "stream",
     "text": [
      "[[1, 0, 0, 0, 0], [0, 0, 1, 0, 0], [0, 0, 0, 1, 0], [0, 0, 0, 1, 0], [0, 0, 0, 0, 1], [0, 0, 1, 0, 0], [0, 0, 0, 1, 0], [0, 0, 0, 0, 1]]\n"
     ]
    }
   ],
   "source": [
    "test_list = []\n",
    "for x in y_hat : \n",
    "    temp = list(x)\n",
    "    ind = temp.index(max(temp))\n",
    "    test_list.append([0 if i!=ind else 1 for i in range(5)])\n",
    "print(test_list)\n",
    "    "
   ]
  },
  {
   "cell_type": "code",
   "execution_count": 52,
   "id": "7849f443",
   "metadata": {
    "execution": {
     "iopub.execute_input": "2023-09-23T11:44:16.811586Z",
     "iopub.status.busy": "2023-09-23T11:44:16.810968Z",
     "iopub.status.idle": "2023-09-23T11:44:16.814882Z",
     "shell.execute_reply": "2023-09-23T11:44:16.814195Z"
    },
    "papermill": {
     "duration": 0.56743,
     "end_time": "2023-09-23T11:44:16.816814",
     "exception": false,
     "start_time": "2023-09-23T11:44:16.249384",
     "status": "completed"
    },
    "tags": []
   },
   "outputs": [],
   "source": [
    "# y_hat=[1 if prediction>0.5 else 0 for prediction in y_hat]"
   ]
  },
  {
   "cell_type": "code",
   "execution_count": 53,
   "id": "665c8a6c",
   "metadata": {
    "execution": {
     "iopub.execute_input": "2023-09-23T11:44:17.939173Z",
     "iopub.status.busy": "2023-09-23T11:44:17.938855Z",
     "iopub.status.idle": "2023-09-23T11:44:17.944751Z",
     "shell.execute_reply": "2023-09-23T11:44:17.943868Z"
    },
    "papermill": {
     "duration": 0.568193,
     "end_time": "2023-09-23T11:44:17.947213",
     "exception": false,
     "start_time": "2023-09-23T11:44:17.379020",
     "status": "completed"
    },
    "tags": []
   },
   "outputs": [],
   "source": [
    "def load_mp3_16k_mono(filename):\n",
    "    res=tfio.audio.AudioIOTensor(filename)\n",
    "    tensor=res.to_tensor()\n",
    "    tensor=tf.math.reduce_sum(tensor,axis=1)/2\n",
    "    sample_rate=res.rate\n",
    "    sample_rate=tf.cast(sample_rate,dtype=tf.int64)\n",
    "    wav=tfio.audio.resample(tensor,rate_in=sample_rate,rate_out=16000)\n",
    "    return wav"
   ]
  },
  {
   "cell_type": "code",
   "execution_count": 54,
   "id": "45bc9784",
   "metadata": {
    "execution": {
     "iopub.execute_input": "2023-09-23T11:44:19.078756Z",
     "iopub.status.busy": "2023-09-23T11:44:19.078478Z",
     "iopub.status.idle": "2023-09-23T11:44:20.307278Z",
     "shell.execute_reply": "2023-09-23T11:44:20.306484Z"
    },
    "papermill": {
     "duration": 1.80207,
     "end_time": "2023-09-23T11:44:20.309512",
     "exception": false,
     "start_time": "2023-09-23T11:44:18.507442",
     "status": "completed"
    },
    "tags": []
   },
   "outputs": [],
   "source": [
    "mp3=os.path.join('/kaggle/input','birdsong-recognition','example_test_audio', 'BLKFR-10-CPL_20190611_093000.pt540.mp3')\n",
    "wav=load_mp3_16k_mono(mp3)\n",
    "audio_slices=tf.keras.utils.timeseries_dataset_from_array(wav,wav,sequence_length=48000,sequence_stride=48000,batch_size=1)\n",
    "samples,index=audio_slices.as_numpy_iterator().next()"
   ]
  },
  {
   "cell_type": "code",
   "execution_count": 55,
   "id": "a2da8c2b",
   "metadata": {
    "execution": {
     "iopub.execute_input": "2023-09-23T11:44:21.438301Z",
     "iopub.status.busy": "2023-09-23T11:44:21.437979Z",
     "iopub.status.idle": "2023-09-23T11:44:21.444201Z",
     "shell.execute_reply": "2023-09-23T11:44:21.443498Z"
    },
    "papermill": {
     "duration": 0.577196,
     "end_time": "2023-09-23T11:44:21.446032",
     "exception": false,
     "start_time": "2023-09-23T11:44:20.868836",
     "status": "completed"
    },
    "tags": []
   },
   "outputs": [],
   "source": [
    "def preprocess_mp3(sample,index):\n",
    "    sample=sample[0]\n",
    "    zero_padding=tf.zeros([48000]-tf.shape(sample),dtype=tf.float32)\n",
    "    wav=tf.concat([zero_padding,sample],0)\n",
    "    spectrogram=tf.signal.stft(wav,frame_length=320,frame_step=32)\n",
    "    spectrogram=tf.abs(spectrogram)\n",
    "    spectrogram=tf.expand_dims(spectrogram,axis=2)\n",
    "    return spectrogram"
   ]
  },
  {
   "cell_type": "code",
   "execution_count": 56,
   "id": "d04bff57",
   "metadata": {
    "execution": {
     "iopub.execute_input": "2023-09-23T11:44:22.572974Z",
     "iopub.status.busy": "2023-09-23T11:44:22.572692Z",
     "iopub.status.idle": "2023-09-23T11:44:22.770473Z",
     "shell.execute_reply": "2023-09-23T11:44:22.769733Z"
    },
    "papermill": {
     "duration": 0.765692,
     "end_time": "2023-09-23T11:44:22.772658",
     "exception": false,
     "start_time": "2023-09-23T11:44:22.006966",
     "status": "completed"
    },
    "tags": []
   },
   "outputs": [],
   "source": [
    "audio_slices = tf.keras.utils.timeseries_dataset_from_array(wav, wav, sequence_length=48000, sequence_stride=48000, batch_size=1)\n",
    "audio_slices = audio_slices.map(preprocess_mp3)\n",
    "audio_slices = audio_slices.batch(64)"
   ]
  },
  {
   "cell_type": "code",
   "execution_count": 57,
   "id": "8ebea581",
   "metadata": {
    "execution": {
     "iopub.execute_input": "2023-09-23T11:44:23.946745Z",
     "iopub.status.busy": "2023-09-23T11:44:23.946318Z",
     "iopub.status.idle": "2023-09-23T11:44:34.399583Z",
     "shell.execute_reply": "2023-09-23T11:44:34.398750Z"
    },
    "papermill": {
     "duration": 11.067718,
     "end_time": "2023-09-23T11:44:34.401871",
     "exception": false,
     "start_time": "2023-09-23T11:44:23.334153",
     "status": "completed"
    },
    "tags": []
   },
   "outputs": [],
   "source": [
    "yhat = model.predict(audio_slices)\n",
    "# yhat = [1 if prediction > 0.99 else 0 for prediction in yhat]"
   ]
  },
  {
   "cell_type": "code",
   "execution_count": 58,
   "id": "790a6173",
   "metadata": {
    "collapsed": true,
    "execution": {
     "iopub.execute_input": "2023-09-23T11:44:35.535068Z",
     "iopub.status.busy": "2023-09-23T11:44:35.534752Z",
     "iopub.status.idle": "2023-09-23T11:44:35.541873Z",
     "shell.execute_reply": "2023-09-23T11:44:35.541142Z"
    },
    "jupyter": {
     "outputs_hidden": true
    },
    "papermill": {
     "duration": 0.578405,
     "end_time": "2023-09-23T11:44:35.544647",
     "exception": false,
     "start_time": "2023-09-23T11:44:34.966242",
     "status": "completed"
    },
    "tags": []
   },
   "outputs": [
    {
     "name": "stdout",
     "output_type": "stream",
     "text": [
      "[[1, 0, 0, 0, 0], [1, 0, 0, 0, 0], [1, 0, 0, 0, 0], [1, 0, 0, 0, 0], [1, 0, 0, 0, 0], [1, 0, 0, 0, 0], [1, 0, 0, 0, 0], [1, 0, 0, 0, 0], [1, 0, 0, 0, 0], [1, 0, 0, 0, 0], [1, 0, 0, 0, 0], [1, 0, 0, 0, 0], [1, 0, 0, 0, 0], [1, 0, 0, 0, 0], [1, 0, 0, 0, 0], [1, 0, 0, 0, 0], [1, 0, 0, 0, 0], [1, 0, 0, 0, 0], [1, 0, 0, 0, 0], [1, 0, 0, 0, 0], [1, 0, 0, 0, 0], [1, 0, 0, 0, 0], [1, 0, 0, 0, 0], [1, 0, 0, 0, 0], [1, 0, 0, 0, 0], [1, 0, 0, 0, 0], [1, 0, 0, 0, 0], [1, 0, 0, 0, 0], [1, 0, 0, 0, 0], [1, 0, 0, 0, 0], [1, 0, 0, 0, 0], [1, 0, 0, 0, 0], [1, 0, 0, 0, 0], [1, 0, 0, 0, 0], [1, 0, 0, 0, 0], [1, 0, 0, 0, 0], [1, 0, 0, 0, 0], [1, 0, 0, 0, 0], [1, 0, 0, 0, 0], [1, 0, 0, 0, 0], [1, 0, 0, 0, 0], [1, 0, 0, 0, 0], [1, 0, 0, 0, 0], [1, 0, 0, 0, 0], [1, 0, 0, 0, 0], [1, 0, 0, 0, 0], [1, 0, 0, 0, 0], [1, 0, 0, 0, 0], [1, 0, 0, 0, 0], [1, 0, 0, 0, 0], [1, 0, 0, 0, 0], [1, 0, 0, 0, 0], [1, 0, 0, 0, 0], [1, 0, 0, 0, 0], [1, 0, 0, 0, 0], [0, 1, 0, 0, 0], [1, 0, 0, 0, 0], [1, 0, 0, 0, 0], [1, 0, 0, 0, 0], [1, 0, 0, 0, 0], [1, 0, 0, 0, 0], [1, 0, 0, 0, 0], [1, 0, 0, 0, 0], [1, 0, 0, 0, 0], [1, 0, 0, 0, 0], [1, 0, 0, 0, 0], [1, 0, 0, 0, 0], [1, 0, 0, 0, 0], [1, 0, 0, 0, 0], [1, 0, 0, 0, 0], [1, 0, 0, 0, 0], [1, 0, 0, 0, 0], [1, 0, 0, 0, 0], [1, 0, 0, 0, 0], [1, 0, 0, 0, 0], [1, 0, 0, 0, 0], [1, 0, 0, 0, 0], [1, 0, 0, 0, 0], [1, 0, 0, 0, 0], [1, 0, 0, 0, 0], [1, 0, 0, 0, 0], [1, 0, 0, 0, 0], [1, 0, 0, 0, 0], [1, 0, 0, 0, 0], [1, 0, 0, 0, 0], [1, 0, 0, 0, 0], [1, 0, 0, 0, 0], [1, 0, 0, 0, 0], [1, 0, 0, 0, 0], [1, 0, 0, 0, 0], [1, 0, 0, 0, 0], [1, 0, 0, 0, 0], [1, 0, 0, 0, 0], [1, 0, 0, 0, 0], [1, 0, 0, 0, 0], [1, 0, 0, 0, 0], [1, 0, 0, 0, 0], [1, 0, 0, 0, 0], [1, 0, 0, 0, 0], [1, 0, 0, 0, 0], [1, 0, 0, 0, 0], [1, 0, 0, 0, 0], [1, 0, 0, 0, 0], [1, 0, 0, 0, 0], [1, 0, 0, 0, 0], [1, 0, 0, 0, 0], [1, 0, 0, 0, 0], [1, 0, 0, 0, 0], [1, 0, 0, 0, 0], [1, 0, 0, 0, 0], [1, 0, 0, 0, 0], [1, 0, 0, 0, 0], [1, 0, 0, 0, 0], [1, 0, 0, 0, 0], [1, 0, 0, 0, 0], [1, 0, 0, 0, 0], [1, 0, 0, 0, 0], [1, 0, 0, 0, 0], [1, 0, 0, 0, 0], [1, 0, 0, 0, 0], [1, 0, 0, 0, 0], [1, 0, 0, 0, 0], [1, 0, 0, 0, 0], [1, 0, 0, 0, 0], [1, 0, 0, 0, 0], [1, 0, 0, 0, 0], [1, 0, 0, 0, 0], [1, 0, 0, 0, 0], [1, 0, 0, 0, 0], [1, 0, 0, 0, 0], [1, 0, 0, 0, 0], [1, 0, 0, 0, 0], [1, 0, 0, 0, 0], [1, 0, 0, 0, 0], [1, 0, 0, 0, 0], [1, 0, 0, 0, 0], [1, 0, 0, 0, 0], [1, 0, 0, 0, 0], [1, 0, 0, 0, 0], [1, 0, 0, 0, 0], [1, 0, 0, 0, 0], [1, 0, 0, 0, 0], [1, 0, 0, 0, 0], [1, 0, 0, 0, 0], [1, 0, 0, 0, 0], [1, 0, 0, 0, 0], [1, 0, 0, 0, 0], [1, 0, 0, 0, 0], [1, 0, 0, 0, 0], [1, 0, 0, 0, 0], [1, 0, 0, 0, 0], [1, 0, 0, 0, 0], [1, 0, 0, 0, 0], [1, 0, 0, 0, 0], [1, 0, 0, 0, 0], [1, 0, 0, 0, 0]]\n"
     ]
    }
   ],
   "source": [
    "test_list = []\n",
    "for x in yhat : \n",
    "    temp = list(x)\n",
    "    ind = temp.index(max(temp))\n",
    "    test_list.append([0 if i!=ind else 1 for i in range(5)])\n",
    "print(test_list)"
   ]
  },
  {
   "cell_type": "code",
   "execution_count": 59,
   "id": "1d4658bc",
   "metadata": {
    "execution": {
     "iopub.execute_input": "2023-09-23T11:44:36.675643Z",
     "iopub.status.busy": "2023-09-23T11:44:36.675072Z",
     "iopub.status.idle": "2023-09-23T11:44:36.680485Z",
     "shell.execute_reply": "2023-09-23T11:44:36.679653Z"
    },
    "papermill": {
     "duration": 0.56997,
     "end_time": "2023-09-23T11:44:36.682730",
     "exception": false,
     "start_time": "2023-09-23T11:44:36.112760",
     "status": "completed"
    },
    "tags": []
   },
   "outputs": [
    {
     "data": {
      "text/plain": [
       "156"
      ]
     },
     "execution_count": 59,
     "metadata": {},
     "output_type": "execute_result"
    }
   ],
   "source": [
    "len(test_list)"
   ]
  },
  {
   "cell_type": "code",
   "execution_count": 60,
   "id": "29c91b1d",
   "metadata": {
    "execution": {
     "iopub.execute_input": "2023-09-23T11:44:37.806276Z",
     "iopub.status.busy": "2023-09-23T11:44:37.805949Z",
     "iopub.status.idle": "2023-09-23T11:44:37.810113Z",
     "shell.execute_reply": "2023-09-23T11:44:37.809383Z"
    },
    "papermill": {
     "duration": 0.569756,
     "end_time": "2023-09-23T11:44:37.812022",
     "exception": false,
     "start_time": "2023-09-23T11:44:37.242266",
     "status": "completed"
    },
    "tags": []
   },
   "outputs": [],
   "source": [
    "y_hat=[key for key,group in groupby(test_list)]\n",
    "# calls=tf.math.reduce_sum(y_hat).numpy()"
   ]
  },
  {
   "cell_type": "code",
   "execution_count": 61,
   "id": "070ebf38",
   "metadata": {
    "execution": {
     "iopub.execute_input": "2023-09-23T11:44:38.936636Z",
     "iopub.status.busy": "2023-09-23T11:44:38.936347Z",
     "iopub.status.idle": "2023-09-23T11:44:38.940712Z",
     "shell.execute_reply": "2023-09-23T11:44:38.939970Z"
    },
    "papermill": {
     "duration": 0.570023,
     "end_time": "2023-09-23T11:44:38.943518",
     "exception": false,
     "start_time": "2023-09-23T11:44:38.373495",
     "status": "completed"
    },
    "tags": []
   },
   "outputs": [
    {
     "name": "stdout",
     "output_type": "stream",
     "text": [
      "3\n"
     ]
    }
   ],
   "source": [
    "# y_hat\n",
    "print(len(y_hat))"
   ]
  },
  {
   "cell_type": "code",
   "execution_count": 62,
   "id": "d2d8ac15",
   "metadata": {
    "execution": {
     "iopub.execute_input": "2023-09-23T11:44:40.075479Z",
     "iopub.status.busy": "2023-09-23T11:44:40.075172Z",
     "iopub.status.idle": "2023-09-23T11:44:40.080517Z",
     "shell.execute_reply": "2023-09-23T11:44:40.079461Z"
    },
    "papermill": {
     "duration": 0.57315,
     "end_time": "2023-09-23T11:44:40.082653",
     "exception": false,
     "start_time": "2023-09-23T11:44:39.509503",
     "status": "completed"
    },
    "tags": []
   },
   "outputs": [],
   "source": [
    "dic = {}\n",
    "for x in y_hat :\n",
    "    if tuple(x) in dic :\n",
    "        dic[tuple(x)] += 1\n",
    "    else:\n",
    "        dic[tuple(x)] = 1"
   ]
  },
  {
   "cell_type": "code",
   "execution_count": 63,
   "id": "dfe61794",
   "metadata": {
    "execution": {
     "iopub.execute_input": "2023-09-23T11:44:41.207714Z",
     "iopub.status.busy": "2023-09-23T11:44:41.207418Z",
     "iopub.status.idle": "2023-09-23T11:44:41.213388Z",
     "shell.execute_reply": "2023-09-23T11:44:41.212658Z"
    },
    "papermill": {
     "duration": 0.570987,
     "end_time": "2023-09-23T11:44:41.216102",
     "exception": false,
     "start_time": "2023-09-23T11:44:40.645115",
     "status": "completed"
    },
    "tags": []
   },
   "outputs": [
    {
     "data": {
      "text/plain": [
       "{(1, 0, 0, 0, 0): 2, (0, 1, 0, 0, 0): 1}"
      ]
     },
     "execution_count": 63,
     "metadata": {},
     "output_type": "execute_result"
    }
   ],
   "source": [
    "dic"
   ]
  },
  {
   "cell_type": "code",
   "execution_count": 64,
   "id": "7adadfbc",
   "metadata": {
    "execution": {
     "iopub.execute_input": "2023-09-23T11:44:42.345218Z",
     "iopub.status.busy": "2023-09-23T11:44:42.344519Z",
     "iopub.status.idle": "2023-09-23T11:44:42.348514Z",
     "shell.execute_reply": "2023-09-23T11:44:42.347828Z"
    },
    "papermill": {
     "duration": 0.569877,
     "end_time": "2023-09-23T11:44:42.350378",
     "exception": false,
     "start_time": "2023-09-23T11:44:41.780501",
     "status": "completed"
    },
    "tags": []
   },
   "outputs": [],
   "source": [
    "# results={}\n",
    "# for file in os.listdir(os.path.join('/kaggle/input','z-by-hp-unlocked-challenge-3-signal-processing','Forest Recordings')):\n",
    "#     FILEPATH=os.path.join('/kaggle/input','z-by-hp-unlocked-challenge-3-signal-processing','Forest Recordings',file)\n",
    "#     wav=load_mp3_16k_mono(FILEPATH)\n",
    "#     audio_slices=tf.keras.utils.timeseries_dataset_from_array(wav,wav,sequence_length=48000,sequence_stride=48000,batch_size=1)\n",
    "#     audio_slices=audio_slices.map(preprocess_mp3)\n",
    "#     audio_slices=audio_slices.batch(64)\n",
    "#     y_hat=model.predict(audio_slices)\n",
    "#     results[file]=y_hat"
   ]
  },
  {
   "cell_type": "code",
   "execution_count": 65,
   "id": "58a82fce",
   "metadata": {
    "execution": {
     "iopub.execute_input": "2023-09-23T11:44:43.841639Z",
     "iopub.status.busy": "2023-09-23T11:44:43.841175Z",
     "iopub.status.idle": "2023-09-23T11:45:01.608654Z",
     "shell.execute_reply": "2023-09-23T11:45:01.607773Z"
    },
    "papermill": {
     "duration": 18.599293,
     "end_time": "2023-09-23T11:45:01.611040",
     "exception": false,
     "start_time": "2023-09-23T11:44:43.011747",
     "status": "completed"
    },
    "tags": []
   },
   "outputs": [],
   "source": [
    "results={}\n",
    "for file in os.listdir(os.path.join('/kaggle/input','birdsong-recognition','example_test_audio')):\n",
    "    FILEPATH=os.path.join('/kaggle/input','birdsong-recognition','example_test_audio',file)\n",
    "    wav=load_mp3_16k_mono(FILEPATH)\n",
    "    audio_slices=tf.keras.utils.timeseries_dataset_from_array(wav,wav,sequence_length=48000,sequence_stride=48000,batch_size=1)\n",
    "    audio_slices=audio_slices.map(preprocess_mp3)\n",
    "    audio_slices=audio_slices.batch(64)\n",
    "    y_hat=model.predict(audio_slices)\n",
    "    results[file]=y_hat"
   ]
  },
  {
   "cell_type": "code",
   "execution_count": 66,
   "id": "cf82ba92",
   "metadata": {
    "collapsed": true,
    "execution": {
     "iopub.execute_input": "2023-09-23T11:45:02.740930Z",
     "iopub.status.busy": "2023-09-23T11:45:02.740653Z",
     "iopub.status.idle": "2023-09-23T11:45:02.764885Z",
     "shell.execute_reply": "2023-09-23T11:45:02.764192Z"
    },
    "jupyter": {
     "outputs_hidden": true
    },
    "papermill": {
     "duration": 0.592899,
     "end_time": "2023-09-23T11:45:02.767530",
     "exception": false,
     "start_time": "2023-09-23T11:45:02.174631",
     "status": "completed"
    },
    "tags": []
   },
   "outputs": [
    {
     "data": {
      "text/plain": [
       "{'ORANGE-7-CAP_20190606_093000.pt623.mp3': array([[0.75583917, 0.29581127, 0.28933626, 0.0775661 , 0.10893357],\n",
       "        [0.88509816, 0.48072648, 0.21842413, 0.01883302, 0.10827941],\n",
       "        [0.9187397 , 0.6078308 , 0.14774573, 0.02024179, 0.0994284 ],\n",
       "        [0.8605207 , 0.5362553 , 0.35269645, 0.01554784, 0.07241192],\n",
       "        [0.66262746, 0.34906435, 0.12740143, 0.3262736 , 0.11959174],\n",
       "        [0.85123676, 0.3505456 , 0.38539997, 0.01809046, 0.08283719],\n",
       "        [0.8351524 , 0.2475611 , 0.385522  , 0.05113216, 0.07169048],\n",
       "        [0.8407965 , 0.32668385, 0.27896935, 0.04748702, 0.10728649],\n",
       "        [0.7704372 , 0.31314343, 0.34149313, 0.309435  , 0.11585927],\n",
       "        [0.9019246 , 0.43385214, 0.16034576, 0.04504899, 0.10512576],\n",
       "        [0.792685  , 0.1729158 , 0.23555732, 0.12734868, 0.12898263],\n",
       "        [0.87984437, 0.46096826, 0.13839282, 0.06247807, 0.11273947],\n",
       "        [0.9062831 , 0.5189991 , 0.25120535, 0.02059069, 0.08301563],\n",
       "        [0.78752023, 0.24762915, 0.2856573 , 0.0873746 , 0.11892129],\n",
       "        [0.8517597 , 0.46618846, 0.19556475, 0.0879098 , 0.12402046],\n",
       "        [0.9175826 , 0.54043245, 0.11793301, 0.0306164 , 0.10234214],\n",
       "        [0.9164941 , 0.4592463 , 0.15018436, 0.03354588, 0.11671861],\n",
       "        [0.8877085 , 0.36959487, 0.5025787 , 0.02518648, 0.05200587],\n",
       "        [0.9016218 , 0.44363692, 0.23863494, 0.05293427, 0.09484281],\n",
       "        [0.9255675 , 0.43112677, 0.1520007 , 0.02862476, 0.1114651 ],\n",
       "        [0.8491442 , 0.20224348, 0.22081369, 0.10944115, 0.12475776],\n",
       "        [0.9336432 , 0.45604905, 0.14678092, 0.03507121, 0.09958909],\n",
       "        [0.89858055, 0.3236728 , 0.22786827, 0.0477606 , 0.11434899],\n",
       "        [0.84692806, 0.23726894, 0.2766401 , 0.10327031, 0.11717308],\n",
       "        [0.9039304 , 0.43944648, 0.22320946, 0.09399067, 0.07745885],\n",
       "        [0.9125418 , 0.41122547, 0.16395456, 0.04116903, 0.1014334 ],\n",
       "        [0.80011994, 0.23568487, 0.24513128, 0.09802987, 0.12861656],\n",
       "        [0.8972209 , 0.4807355 , 0.19923142, 0.06109931, 0.10561679],\n",
       "        [0.91564476, 0.42231324, 0.15558383, 0.04270025, 0.10145201],\n",
       "        [0.8871853 , 0.38938415, 0.15050472, 0.05815977, 0.12347035],\n",
       "        [0.9219061 , 0.5613368 , 0.11837387, 0.05980266, 0.07368959],\n",
       "        [0.8663768 , 0.4869386 , 0.20855625, 0.07558043, 0.10877182],\n",
       "        [0.9207291 , 0.52824575, 0.12345871, 0.03244321, 0.103209  ],\n",
       "        [0.8177587 , 0.34639233, 0.19898154, 0.06983238, 0.13901693],\n",
       "        [0.89271396, 0.5127896 , 0.19525807, 0.08765598, 0.09803852],\n",
       "        [0.891242  , 0.44972515, 0.134416  , 0.05378001, 0.10345437],\n",
       "        [0.86265403, 0.42422086, 0.18646489, 0.06946904, 0.1034361 ],\n",
       "        [0.87658644, 0.5092986 , 0.13701592, 0.05647529, 0.11045387],\n",
       "        [0.8202436 , 0.50670356, 0.19330312, 0.07635852, 0.1219938 ],\n",
       "        [0.8909597 , 0.5518237 , 0.11124884, 0.04300795, 0.10025374],\n",
       "        [0.868845  , 0.4947202 , 0.1900189 , 0.04233612, 0.10757705],\n",
       "        [0.76062685, 0.28596708, 0.1879924 , 0.15510407, 0.14417171],\n",
       "        [0.90383995, 0.5069255 , 0.14815441, 0.03600186, 0.09677271],\n",
       "        [0.9082749 , 0.45648712, 0.152426  , 0.04272619, 0.10974798],\n",
       "        [0.89063776, 0.39992854, 0.19857262, 0.05286499, 0.08505157],\n",
       "        [0.8547658 , 0.31303388, 0.23902   , 0.08146305, 0.10243029],\n",
       "        [0.9016109 , 0.44200566, 0.14181249, 0.04343385, 0.11152193],\n",
       "        [0.897637  , 0.47693306, 0.13202135, 0.03495649, 0.12469524],\n",
       "        [0.87315565, 0.44256046, 0.27508998, 0.03705421, 0.07228513],\n",
       "        [0.86309683, 0.4846889 , 0.19068624, 0.05689021, 0.10786168],\n",
       "        [0.83271736, 0.5282726 , 0.16121936, 0.04409746, 0.12551416],\n",
       "        [0.72125536, 0.5041794 , 0.2961704 , 0.02684744, 0.14847712],\n",
       "        [0.6592136 , 0.6076741 , 0.12816758, 0.04342909, 0.17720482],\n",
       "        [0.3270447 , 0.407245  , 0.13950282, 0.14949608, 0.20808616],\n",
       "        [0.4902378 , 0.52345514, 0.09129473, 0.0352177 , 0.35701817],\n",
       "        [0.48712692, 0.6383087 , 0.0657597 , 0.02737559, 0.4051159 ],\n",
       "        [0.1463316 , 0.38066417, 0.11652582, 0.032926  , 0.54534316],\n",
       "        [0.17155062, 0.4624761 , 0.08033983, 0.08419669, 0.47365075],\n",
       "        [0.4304379 , 0.49711302, 0.17551672, 0.05193041, 0.31674516],\n",
       "        [0.47312257, 0.39414215, 0.2024288 , 0.12951498, 0.35809508],\n",
       "        [0.6183089 , 0.6102067 , 0.14840935, 0.05088587, 0.26116678],\n",
       "        [0.6251337 , 0.64254856, 0.26633888, 0.05550285, 0.30055338],\n",
       "        [0.75796944, 0.6022513 , 0.16274264, 0.04343906, 0.20295277],\n",
       "        [0.51425177, 0.424915  , 0.3147898 , 0.12912336, 0.16759156],\n",
       "        [0.71779937, 0.6659302 , 0.17371826, 0.03897354, 0.19930513],\n",
       "        [0.5815567 , 0.38817048, 0.21909261, 0.06619382, 0.22926612],\n",
       "        [0.41522762, 0.45532632, 0.16258237, 0.19927444, 0.21303129],\n",
       "        [0.47971976, 0.5829551 , 0.26139507, 0.08679212, 0.30375764],\n",
       "        [0.6304997 , 0.5504707 , 0.15085047, 0.05252574, 0.27786335],\n",
       "        [0.47495502, 0.5113551 , 0.15998615, 0.13041185, 0.25822183],\n",
       "        [0.28009123, 0.45287222, 0.37803012, 0.13854977, 0.41917437],\n",
       "        [0.585278  , 0.53425676, 0.12744318, 0.07707546, 0.27357543],\n",
       "        [0.56787276, 0.61520445, 0.12292939, 0.072111  , 0.28956178],\n",
       "        [0.6913488 , 0.45984045, 0.16256313, 0.06521671, 0.15887742],\n",
       "        [0.74976605, 0.46450245, 0.16281347, 0.0851553 , 0.13566297],\n",
       "        [0.76329505, 0.4708916 , 0.18640873, 0.07257443, 0.20668793],\n",
       "        [0.7505743 , 0.53847903, 0.18120305, 0.0666254 , 0.2284347 ],\n",
       "        [0.8815316 , 0.57965356, 0.16439904, 0.04519482, 0.12486914],\n",
       "        [0.7697234 , 0.28949484, 0.23263681, 0.15570314, 0.1578826 ],\n",
       "        [0.8564975 , 0.45059943, 0.1669382 , 0.06013645, 0.13542147],\n",
       "        [0.835205  , 0.442187  , 0.1768799 , 0.06938294, 0.1286308 ],\n",
       "        [0.7836906 , 0.47576475, 0.20543824, 0.09447742, 0.13764031],\n",
       "        [0.79937506, 0.2902983 , 0.2882118 , 0.08583366, 0.15508899],\n",
       "        [0.84972847, 0.39045966, 0.3427883 , 0.04433833, 0.09065864],\n",
       "        [0.9054387 , 0.5256563 , 0.15438838, 0.05640031, 0.10864747],\n",
       "        [0.9032024 , 0.4744532 , 0.1438367 , 0.0404899 , 0.1130839 ],\n",
       "        [0.83039016, 0.38572386, 0.27930722, 0.05454132, 0.09063504],\n",
       "        [0.7649659 , 0.41414583, 0.30144283, 0.07461558, 0.13295685],\n",
       "        [0.81041706, 0.46915135, 0.17563678, 0.07650679, 0.14147821],\n",
       "        [0.8729438 , 0.495165  , 0.2648342 , 0.03544515, 0.09152238],\n",
       "        [0.83030796, 0.37168178, 0.26804608, 0.07835257, 0.10827714],\n",
       "        [0.85049593, 0.44666243, 0.14001025, 0.06096816, 0.12422109],\n",
       "        [0.5951924 , 0.24401699, 0.46323487, 0.16209747, 0.21180679],\n",
       "        [0.86694604, 0.44460303, 0.13691331, 0.09446894, 0.11286404],\n",
       "        [0.84003425, 0.4151931 , 0.22398196, 0.07004   , 0.143418  ],\n",
       "        [0.8873376 , 0.47631034, 0.15508898, 0.05263749, 0.15051116],\n",
       "        [0.81125385, 0.3905836 , 0.23379305, 0.15902813, 0.12685065],\n",
       "        [0.9279874 , 0.5101578 , 0.20258422, 0.02120913, 0.11126429],\n",
       "        [0.90291667, 0.39208192, 0.1842412 , 0.08562399, 0.1032771 ],\n",
       "        [0.91004646, 0.43909732, 0.20179424, 0.03809785, 0.11500803],\n",
       "        [0.91369957, 0.46003765, 0.36253577, 0.01475188, 0.07401928]],\n",
       "       dtype=float32),\n",
       " 'BLKFR-10-CPL_20190611_093000.pt540.mp3': array([[9.99999881e-01, 2.16485545e-01, 5.59716253e-04, 2.23772463e-06,\n",
       "         1.23544578e-05],\n",
       "        [9.99998212e-01, 4.00515586e-01, 6.91180467e-04, 7.21402239e-06,\n",
       "         6.36390250e-05],\n",
       "        [9.99996901e-01, 5.45566320e-01, 5.02002425e-04, 2.59543094e-06,\n",
       "         1.37693496e-04],\n",
       "        [9.99998808e-01, 4.01906043e-01, 3.33937118e-04, 3.29438672e-06,\n",
       "         4.23207603e-05],\n",
       "        [9.99998569e-01, 6.14061236e-01, 2.19508802e-04, 2.13521093e-06,\n",
       "         5.64439724e-05],\n",
       "        [9.99999642e-01, 4.26046431e-01, 2.48178985e-04, 1.62842900e-06,\n",
       "         2.34890722e-05],\n",
       "        [9.99999762e-01, 3.00335050e-01, 3.79346224e-04, 1.61971207e-06,\n",
       "         2.08034544e-05],\n",
       "        [9.99999881e-01, 2.29927942e-01, 4.44499805e-04, 1.29898945e-06,\n",
       "         1.66035006e-05],\n",
       "        [9.99999881e-01, 1.92211777e-01, 5.40542242e-04, 1.10891256e-06,\n",
       "         1.60079217e-05],\n",
       "        [9.99999881e-01, 1.61780179e-01, 6.09507144e-04, 9.51497668e-07,\n",
       "         1.62562683e-05],\n",
       "        [9.99999881e-01, 1.38588756e-01, 6.99439843e-04, 1.05750030e-06,\n",
       "         1.53039655e-05],\n",
       "        [9.99999881e-01, 1.35516524e-01, 9.21843282e-04, 1.13627982e-06,\n",
       "         1.82795393e-05],\n",
       "        [9.99999881e-01, 1.32847756e-01, 7.21188786e-04, 9.99042754e-07,\n",
       "         1.31584929e-05],\n",
       "        [9.99999881e-01, 1.50658041e-01, 6.57253258e-04, 1.04664434e-06,\n",
       "         1.40196398e-05],\n",
       "        [9.99999881e-01, 2.09597483e-01, 5.25269541e-04, 1.28505371e-06,\n",
       "         1.56208735e-05],\n",
       "        [9.99999881e-01, 1.65179119e-01, 5.92150667e-04, 1.33097910e-06,\n",
       "         1.42805866e-05],\n",
       "        [9.99999881e-01, 1.43931225e-01, 6.85514591e-04, 1.08165250e-06,\n",
       "         1.47012897e-05],\n",
       "        [9.99999881e-01, 1.63269043e-01, 5.98586921e-04, 1.19777917e-06,\n",
       "         1.61777043e-05],\n",
       "        [9.99999642e-01, 1.65139213e-01, 1.17712258e-03, 4.62322987e-06,\n",
       "         1.69929226e-05],\n",
       "        [9.99999642e-01, 2.47596905e-01, 6.65544707e-04, 1.30445915e-06,\n",
       "         1.09396809e-04],\n",
       "        [9.99999881e-01, 1.07057691e-01, 9.41574806e-04, 8.60984017e-07,\n",
       "         2.05329161e-05],\n",
       "        [9.99999881e-01, 1.14988752e-01, 8.03061354e-04, 9.15145847e-07,\n",
       "         1.49927300e-05],\n",
       "        [9.99999881e-01, 1.01727247e-01, 9.21350613e-04, 1.60832781e-06,\n",
       "         1.40740394e-05],\n",
       "        [9.99999881e-01, 1.44116342e-01, 1.05753832e-03, 9.75499802e-07,\n",
       "         1.60124710e-05],\n",
       "        [9.99999046e-01, 1.66137919e-01, 1.93715666e-03, 1.09321661e-06,\n",
       "         3.34826073e-05],\n",
       "        [9.99999881e-01, 1.29210442e-01, 8.89353047e-04, 1.10274107e-06,\n",
       "         1.60654708e-05],\n",
       "        [9.99999285e-01, 1.51499376e-01, 1.48499606e-03, 1.14674799e-06,\n",
       "         2.59183944e-05],\n",
       "        [9.99999642e-01, 1.96102753e-01, 1.39430945e-03, 4.79885955e-07,\n",
       "         2.33163537e-05],\n",
       "        [9.99999762e-01, 1.37775421e-01, 1.09533977e-03, 9.44765816e-07,\n",
       "         2.15258842e-05],\n",
       "        [9.99999881e-01, 1.50259927e-01, 1.03534909e-03, 1.20022378e-06,\n",
       "         1.89697785e-05],\n",
       "        [9.99999523e-01, 2.28721052e-01, 1.39750459e-03, 4.68454715e-07,\n",
       "         4.20452052e-05],\n",
       "        [9.99999881e-01, 1.24303579e-01, 9.98209347e-04, 9.31556656e-07,\n",
       "         1.62382803e-05],\n",
       "        [9.99999762e-01, 1.19623013e-01, 1.22935965e-03, 1.07534663e-06,\n",
       "         1.58117273e-05],\n",
       "        [9.99999762e-01, 1.16214588e-01, 1.12470437e-03, 1.01401781e-06,\n",
       "         2.17620727e-05],\n",
       "        [9.99999881e-01, 9.86627266e-02, 9.95514914e-04, 1.18054936e-06,\n",
       "         1.86192410e-05],\n",
       "        [9.99999881e-01, 1.10269561e-01, 1.13024097e-03, 1.14040733e-06,\n",
       "         1.55896796e-05],\n",
       "        [9.99999881e-01, 1.02416761e-01, 1.02742412e-03, 1.27983640e-06,\n",
       "         1.28893516e-05],\n",
       "        [9.99999523e-01, 2.14215577e-01, 1.20733294e-03, 1.23655741e-06,\n",
       "         2.74029317e-05],\n",
       "        [9.99999762e-01, 1.46418884e-01, 9.56495816e-04, 8.02448085e-07,\n",
       "         2.40874670e-05],\n",
       "        [9.99999523e-01, 1.45218149e-01, 1.64872385e-03, 1.71260456e-06,\n",
       "         2.11282731e-05],\n",
       "        [9.99999762e-01, 1.49657875e-01, 1.12621277e-03, 1.30102023e-06,\n",
       "         2.00684517e-05],\n",
       "        [9.99999881e-01, 1.43358842e-01, 9.37340083e-04, 1.08769450e-06,\n",
       "         1.60824093e-05],\n",
       "        [9.99999762e-01, 1.65789157e-01, 1.24793942e-03, 1.81242967e-06,\n",
       "         1.28581678e-05],\n",
       "        [9.99999404e-01, 2.46385112e-01, 1.43822643e-03, 1.28580155e-06,\n",
       "         3.22946325e-05],\n",
       "        [9.99999762e-01, 1.92134783e-01, 1.08132174e-03, 1.17299214e-06,\n",
       "         2.96502003e-05],\n",
       "        [9.99999642e-01, 1.52237400e-01, 1.34727044e-03, 2.61011564e-06,\n",
       "         1.59821720e-05],\n",
       "        [9.99999642e-01, 1.75709993e-01, 8.60386528e-04, 2.28946033e-06,\n",
       "         2.66401621e-05],\n",
       "        [9.99999762e-01, 2.05489919e-01, 8.20206827e-04, 1.82418489e-06,\n",
       "         1.92651969e-05],\n",
       "        [9.99999881e-01, 1.39059752e-01, 7.64831493e-04, 1.37439872e-06,\n",
       "         1.81397099e-05],\n",
       "        [9.99999881e-01, 1.29552528e-01, 7.91610044e-04, 1.02964361e-06,\n",
       "         1.61973094e-05],\n",
       "        [9.99999881e-01, 1.14561886e-01, 8.68017727e-04, 1.25180918e-06,\n",
       "         1.62649994e-05],\n",
       "        [9.99999881e-01, 1.20086595e-01, 7.82663526e-04, 1.18591845e-06,\n",
       "         1.52913308e-05],\n",
       "        [9.99999762e-01, 1.40403867e-01, 1.11226400e-03, 3.45625608e-06,\n",
       "         1.10924266e-05],\n",
       "        [9.99677300e-01, 8.00228655e-01, 7.29671679e-03, 1.81488995e-05,\n",
       "         1.51446334e-03],\n",
       "        [9.99920964e-01, 5.93555808e-01, 9.27264150e-03, 6.68680703e-04,\n",
       "         7.26866783e-05],\n",
       "        [5.52311540e-01, 8.68847787e-01, 1.70399214e-03, 3.40852130e-04,\n",
       "         1.41197853e-02],\n",
       "        [9.78830874e-01, 8.81431282e-01, 1.51342740e-02, 2.47731964e-06,\n",
       "         6.52382448e-02],\n",
       "        [9.98671889e-01, 7.75720000e-01, 1.52497590e-02, 1.04524239e-04,\n",
       "         3.31474817e-04],\n",
       "        [9.99917984e-01, 8.65046978e-01, 1.54766941e-03, 1.50453234e-05,\n",
       "         6.05852227e-04],\n",
       "        [9.99994159e-01, 7.57497728e-01, 8.78156163e-04, 4.52901213e-06,\n",
       "         9.55697731e-04],\n",
       "        [9.99998212e-01, 2.42225111e-01, 1.33644731e-03, 4.29988359e-06,\n",
       "         6.14795863e-05],\n",
       "        [9.99999881e-01, 1.75199360e-01, 7.43545941e-04, 1.34135280e-06,\n",
       "         2.06027416e-05],\n",
       "        [9.99999881e-01, 1.64912730e-01, 5.71250101e-04, 1.32312994e-06,\n",
       "         2.05931174e-05],\n",
       "        [9.99999881e-01, 1.57698810e-01, 5.94654179e-04, 1.25643533e-06,\n",
       "         1.58271905e-05],\n",
       "        [9.99999881e-01, 1.68899268e-01, 7.54181761e-04, 1.17620482e-06,\n",
       "         1.30366225e-05],\n",
       "        [9.99999881e-01, 1.83930799e-01, 6.11815951e-04, 1.77632000e-06,\n",
       "         1.99685510e-05],\n",
       "        [9.99995708e-01, 2.21031010e-01, 1.96263543e-03, 2.61120604e-05,\n",
       "         1.85732388e-05],\n",
       "        [9.99998569e-01, 4.32953894e-01, 6.75234129e-04, 2.37082418e-06,\n",
       "         2.40413312e-04],\n",
       "        [9.99999285e-01, 2.73804486e-01, 8.53213947e-04, 2.53850635e-06,\n",
       "         9.05733104e-05],\n",
       "        [9.99999881e-01, 1.62496969e-01, 8.07038567e-04, 1.43597003e-06,\n",
       "         2.05661127e-05],\n",
       "        [9.99999881e-01, 1.32727057e-01, 7.68668659e-04, 1.10649341e-06,\n",
       "         1.64016819e-05],\n",
       "        [9.99999881e-01, 1.33224159e-01, 7.02141610e-04, 1.09627354e-06,\n",
       "         1.61311473e-05],\n",
       "        [9.99999881e-01, 1.34337366e-01, 6.85937412e-04, 1.16111778e-06,\n",
       "         1.25945926e-05],\n",
       "        [9.99999881e-01, 1.31530479e-01, 7.65190169e-04, 1.15349133e-06,\n",
       "         1.50386113e-05],\n",
       "        [9.99999881e-01, 1.38690859e-01, 6.84946368e-04, 1.20258858e-06,\n",
       "         1.50446776e-05],\n",
       "        [9.99999881e-01, 1.94362447e-01, 4.89291037e-04, 1.29201385e-06,\n",
       "         1.58264975e-05],\n",
       "        [9.99999881e-01, 2.28434592e-01, 4.75599896e-04, 1.35460266e-06,\n",
       "         1.66464361e-05],\n",
       "        [9.99999881e-01, 1.53799370e-01, 6.03261054e-04, 1.10506971e-06,\n",
       "         1.64945741e-05],\n",
       "        [9.99999881e-01, 1.38283625e-01, 7.15148926e-04, 1.19548758e-06,\n",
       "         1.43479956e-05],\n",
       "        [9.99999881e-01, 1.28042787e-01, 7.44474703e-04, 1.09719394e-06,\n",
       "         1.41003702e-05],\n",
       "        [9.99999881e-01, 1.24136582e-01, 7.96365959e-04, 9.28882002e-07,\n",
       "         1.45538561e-05],\n",
       "        [9.99999881e-01, 1.21167913e-01, 7.31175474e-04, 1.04014566e-06,\n",
       "         1.40987986e-05],\n",
       "        [9.99999881e-01, 1.15169734e-01, 7.67892634e-04, 1.11539941e-06,\n",
       "         1.34546653e-05],\n",
       "        [9.99999881e-01, 1.21171512e-01, 7.30206200e-04, 1.03737682e-06,\n",
       "         1.36869021e-05],\n",
       "        [9.99999881e-01, 1.12675861e-01, 7.70124025e-04, 9.35564969e-07,\n",
       "         1.32763735e-05],\n",
       "        [9.99999881e-01, 1.18770063e-01, 7.30645319e-04, 1.28776628e-06,\n",
       "         1.41129767e-05],\n",
       "        [9.99999881e-01, 1.12521678e-01, 7.68538273e-04, 1.04589606e-06,\n",
       "         1.45856329e-05],\n",
       "        [9.99999881e-01, 1.05236687e-01, 8.41286033e-04, 1.03467653e-06,\n",
       "         1.37942343e-05],\n",
       "        [9.99999881e-01, 1.05661511e-01, 8.52749450e-04, 9.97560392e-07,\n",
       "         1.62072283e-05],\n",
       "        [9.99999881e-01, 1.00787602e-01, 8.16144457e-04, 9.22915547e-07,\n",
       "         1.50255073e-05],\n",
       "        [9.99999881e-01, 1.09292626e-01, 8.15494219e-04, 9.62193212e-07,\n",
       "         1.44711357e-05],\n",
       "        [9.99999881e-01, 1.03145383e-01, 9.08690970e-04, 1.66468192e-06,\n",
       "         1.18229964e-05],\n",
       "        [9.99997973e-01, 1.35322675e-01, 2.31304648e-03, 1.86754369e-05,\n",
       "         1.62536635e-05],\n",
       "        [9.99989867e-01, 2.43236810e-01, 2.17534578e-03, 1.43383377e-05,\n",
       "         1.43037512e-04],\n",
       "        [9.99961615e-01, 2.90893346e-01, 6.36246102e-03, 1.37453590e-05,\n",
       "         1.36903385e-04],\n",
       "        [9.99979258e-01, 5.44311404e-01, 3.19238589e-03, 2.87558050e-05,\n",
       "         2.16585759e-04],\n",
       "        [9.99992847e-01, 3.97243470e-01, 1.63842086e-03, 1.15387274e-05,\n",
       "         2.41786576e-04],\n",
       "        [9.99999523e-01, 4.38289106e-01, 7.83974305e-04, 1.40303769e-06,\n",
       "         9.34060081e-05],\n",
       "        [9.99999881e-01, 3.13819915e-01, 4.38622170e-04, 8.43449072e-07,\n",
       "         3.10280047e-05],\n",
       "        [9.99999881e-01, 2.57264376e-01, 4.53208835e-04, 1.25720123e-06,\n",
       "         1.64525009e-05],\n",
       "        [9.99999285e-01, 4.78152066e-01, 2.68134929e-04, 1.80170014e-06,\n",
       "         3.53262913e-05],\n",
       "        [9.99995708e-01, 5.12406707e-01, 7.05927378e-04, 4.75918978e-06,\n",
       "         5.28053351e-05],\n",
       "        [9.99964952e-01, 7.49100566e-01, 2.26988108e-03, 1.79337658e-05,\n",
       "         2.38933906e-04],\n",
       "        [9.99958634e-01, 7.13806450e-01, 6.60875638e-04, 6.06607591e-06,\n",
       "         9.02685686e-04],\n",
       "        [9.99999285e-01, 6.07078373e-01, 5.92583441e-04, 2.66430015e-06,\n",
       "         1.20481571e-04],\n",
       "        [9.99999404e-01, 4.00637418e-01, 4.87536570e-04, 1.95547318e-06,\n",
       "         9.63033162e-05],\n",
       "        [9.99999762e-01, 1.95738032e-01, 7.14458816e-04, 5.15590636e-06,\n",
       "         1.30348953e-05],\n",
       "        [9.99999285e-01, 1.94295481e-01, 9.39373043e-04, 2.12863984e-06,\n",
       "         5.29658610e-05],\n",
       "        [9.99999762e-01, 1.79076999e-01, 5.76973776e-04, 1.57577222e-06,\n",
       "         1.90945975e-05],\n",
       "        [9.99999762e-01, 2.43119299e-01, 4.31957509e-04, 1.34116215e-06,\n",
       "         1.63775185e-05],\n",
       "        [9.99998927e-01, 2.49807388e-01, 1.02505030e-03, 2.71055683e-06,\n",
       "         2.13621606e-05],\n",
       "        [9.99999523e-01, 2.24084392e-01, 9.95061710e-04, 1.73239232e-06,\n",
       "         2.67426185e-05],\n",
       "        [9.99999762e-01, 2.32452542e-01, 8.77762912e-04, 1.24521512e-06,\n",
       "         2.04244479e-05],\n",
       "        [9.99999762e-01, 2.20333785e-01, 7.15432456e-04, 1.22437007e-06,\n",
       "         1.83758966e-05],\n",
       "        [9.99998212e-01, 2.64835477e-01, 8.52086290e-04, 4.27709892e-06,\n",
       "         3.75962663e-05],\n",
       "        [9.99999523e-01, 3.28629315e-01, 4.72270418e-04, 1.77916490e-06,\n",
       "         1.80871120e-05],\n",
       "        [9.99999404e-01, 3.05535167e-01, 3.71488481e-04, 1.93712708e-06,\n",
       "         2.61433051e-05],\n",
       "        [9.99997973e-01, 3.48298311e-01, 4.34549118e-04, 3.53568862e-06,\n",
       "         3.41304658e-05],\n",
       "        [9.99987960e-01, 3.18931669e-01, 1.97147438e-03, 1.22432448e-05,\n",
       "         1.80228708e-05],\n",
       "        [9.99999404e-01, 3.32346827e-01, 6.83464925e-04, 1.28474994e-06,\n",
       "         3.58667057e-05],\n",
       "        [9.99996185e-01, 2.95037121e-01, 2.34436663e-03, 2.82466272e-06,\n",
       "         3.16734913e-05],\n",
       "        [9.99999762e-01, 2.26469412e-01, 6.21411193e-04, 1.04359538e-06,\n",
       "         2.50453068e-05],\n",
       "        [9.99999642e-01, 2.04949632e-01, 1.00188178e-03, 3.15312218e-06,\n",
       "         1.37155821e-05],\n",
       "        [9.99999523e-01, 2.17294559e-01, 7.36434478e-04, 1.38903977e-06,\n",
       "         3.63120089e-05],\n",
       "        [9.99999762e-01, 1.68635771e-01, 7.62279320e-04, 1.31029049e-06,\n",
       "         2.64128466e-05],\n",
       "        [9.99999881e-01, 2.32767418e-01, 6.49508787e-04, 1.05308220e-06,\n",
       "         2.38299945e-05],\n",
       "        [9.99999404e-01, 3.15922916e-01, 9.98705975e-04, 7.81880260e-07,\n",
       "         4.55698100e-05],\n",
       "        [9.99999642e-01, 1.53233930e-01, 9.63118859e-04, 1.82054396e-06,\n",
       "         1.74816396e-05],\n",
       "        [9.99999523e-01, 1.73398718e-01, 1.25339709e-03, 1.12612076e-06,\n",
       "         2.24965625e-05],\n",
       "        [9.99999881e-01, 1.24202192e-01, 1.01025950e-03, 1.07619599e-06,\n",
       "         1.46819129e-05],\n",
       "        [9.99999762e-01, 1.26833975e-01, 1.16381969e-03, 2.13827775e-06,\n",
       "         2.04867156e-05],\n",
       "        [9.99999881e-01, 1.23340584e-01, 9.18660429e-04, 1.18270179e-06,\n",
       "         2.24579362e-05],\n",
       "        [9.99999881e-01, 1.22819781e-01, 8.29131168e-04, 1.02222339e-06,\n",
       "         1.50318001e-05],\n",
       "        [9.99999881e-01, 1.43071279e-01, 9.79415607e-04, 1.01128762e-06,\n",
       "         1.88170252e-05],\n",
       "        [9.99999523e-01, 1.46470994e-01, 1.30157662e-03, 2.82170913e-06,\n",
       "         2.43788327e-05],\n",
       "        [9.99999762e-01, 1.67782798e-01, 7.19015079e-04, 1.53296878e-06,\n",
       "         2.43588493e-05],\n",
       "        [9.99999523e-01, 1.69093058e-01, 1.23400660e-03, 3.28464625e-06,\n",
       "         1.85764457e-05],\n",
       "        [9.99998212e-01, 2.20766038e-01, 1.74859713e-03, 2.64437836e-06,\n",
       "         7.20287571e-05],\n",
       "        [9.99999642e-01, 1.41939476e-01, 9.82271391e-04, 1.83907093e-06,\n",
       "         3.83640945e-05],\n",
       "        [9.99999762e-01, 1.45748526e-01, 9.72506881e-04, 1.49853338e-06,\n",
       "         2.38815210e-05],\n",
       "        [9.99999881e-01, 1.14756271e-01, 8.80889944e-04, 1.40693135e-06,\n",
       "         1.74890592e-05],\n",
       "        [9.99999881e-01, 1.29482493e-01, 8.52348167e-04, 1.19396316e-06,\n",
       "         1.71717766e-05],\n",
       "        [9.99999881e-01, 1.25607684e-01, 9.52749921e-04, 1.35645121e-06,\n",
       "         1.71991960e-05],\n",
       "        [9.99999881e-01, 1.20216534e-01, 8.87513510e-04, 1.28038448e-06,\n",
       "         1.42214949e-05],\n",
       "        [9.99999881e-01, 1.10531442e-01, 8.60928965e-04, 1.11625820e-06,\n",
       "         1.58130533e-05],\n",
       "        [9.99999881e-01, 1.06453486e-01, 9.06038564e-04, 1.45015986e-06,\n",
       "         1.54384761e-05],\n",
       "        [9.99999881e-01, 1.01291820e-01, 8.22919363e-04, 1.01993794e-06,\n",
       "         1.46432349e-05],\n",
       "        [9.99999881e-01, 1.05141632e-01, 8.12797516e-04, 9.48643503e-07,\n",
       "         1.49314301e-05],\n",
       "        [9.99999881e-01, 1.03795737e-01, 9.43408522e-04, 9.16879799e-07,\n",
       "         1.40790744e-05],\n",
       "        [9.99999881e-01, 1.09935991e-01, 1.29152765e-03, 3.34861829e-06,\n",
       "         8.06926619e-06],\n",
       "        [9.99999881e-01, 2.91067183e-01, 5.79739630e-04, 1.13654971e-06,\n",
       "         5.82452594e-05],\n",
       "        [9.99999881e-01, 1.04856454e-01, 9.10131086e-04, 1.11467307e-06,\n",
       "         1.33936246e-05],\n",
       "        [9.99999881e-01, 1.25763521e-01, 8.40713852e-04, 9.37528057e-07,\n",
       "         1.47326309e-05],\n",
       "        [9.99999881e-01, 1.14384979e-01, 9.16610588e-04, 1.00304476e-06,\n",
       "         1.34199618e-05],\n",
       "        [9.99999881e-01, 1.12659037e-01, 8.24712275e-04, 1.13764168e-06,\n",
       "         1.51933600e-05],\n",
       "        [9.99999881e-01, 1.24348156e-01, 8.34710430e-04, 1.00642046e-06,\n",
       "         1.27313660e-05]], dtype=float32)}"
      ]
     },
     "execution_count": 66,
     "metadata": {},
     "output_type": "execute_result"
    }
   ],
   "source": [
    "results"
   ]
  },
  {
   "cell_type": "code",
   "execution_count": 67,
   "id": "6c44c994",
   "metadata": {
    "_kg_hide-output": true,
    "execution": {
     "iopub.execute_input": "2023-09-23T11:45:03.988560Z",
     "iopub.status.busy": "2023-09-23T11:45:03.988280Z",
     "iopub.status.idle": "2023-09-23T11:45:03.991830Z",
     "shell.execute_reply": "2023-09-23T11:45:03.991128Z"
    },
    "papermill": {
     "duration": 0.661498,
     "end_time": "2023-09-23T11:45:03.993714",
     "exception": false,
     "start_time": "2023-09-23T11:45:03.332216",
     "status": "completed"
    },
    "tags": []
   },
   "outputs": [],
   "source": [
    "# class_preds={}\n",
    "# for file,logits in results.items():\n",
    "#     class_preds[file]=[1 if prediction>0.99 else 0 for prediction in logits]\n",
    "# #class_preds"
   ]
  },
  {
   "cell_type": "code",
   "execution_count": 68,
   "id": "7153ea71",
   "metadata": {
    "execution": {
     "iopub.execute_input": "2023-09-23T11:45:05.125027Z",
     "iopub.status.busy": "2023-09-23T11:45:05.124736Z",
     "iopub.status.idle": "2023-09-23T11:45:05.131464Z",
     "shell.execute_reply": "2023-09-23T11:45:05.130771Z"
    },
    "papermill": {
     "duration": 0.574075,
     "end_time": "2023-09-23T11:45:05.133418",
     "exception": false,
     "start_time": "2023-09-23T11:45:04.559343",
     "status": "completed"
    },
    "tags": []
   },
   "outputs": [],
   "source": [
    "class_preds={}\n",
    "for file,logits in results.items():\n",
    "    test_list1 = []\n",
    "    for x in logits : \n",
    "        temp = list(x)\n",
    "        ind = temp.index(max(temp))\n",
    "        test_list1.append([0 if i!=ind else 1 for i in range(5)])\n",
    "    class_preds[file]=test_list1\n",
    "#class_preds\n",
    "\n"
   ]
  },
  {
   "cell_type": "code",
   "execution_count": 69,
   "id": "eb804ab2",
   "metadata": {
    "collapsed": true,
    "execution": {
     "iopub.execute_input": "2023-09-23T11:45:06.267449Z",
     "iopub.status.busy": "2023-09-23T11:45:06.267172Z",
     "iopub.status.idle": "2023-09-23T11:45:06.305373Z",
     "shell.execute_reply": "2023-09-23T11:45:06.304692Z"
    },
    "jupyter": {
     "outputs_hidden": true
    },
    "papermill": {
     "duration": 0.607152,
     "end_time": "2023-09-23T11:45:06.307327",
     "exception": false,
     "start_time": "2023-09-23T11:45:05.700175",
     "status": "completed"
    },
    "tags": []
   },
   "outputs": [
    {
     "data": {
      "text/plain": [
       "{'ORANGE-7-CAP_20190606_093000.pt623.mp3': [[1, 0, 0, 0, 0],\n",
       "  [1, 0, 0, 0, 0],\n",
       "  [1, 0, 0, 0, 0],\n",
       "  [1, 0, 0, 0, 0],\n",
       "  [1, 0, 0, 0, 0],\n",
       "  [1, 0, 0, 0, 0],\n",
       "  [1, 0, 0, 0, 0],\n",
       "  [1, 0, 0, 0, 0],\n",
       "  [1, 0, 0, 0, 0],\n",
       "  [1, 0, 0, 0, 0],\n",
       "  [1, 0, 0, 0, 0],\n",
       "  [1, 0, 0, 0, 0],\n",
       "  [1, 0, 0, 0, 0],\n",
       "  [1, 0, 0, 0, 0],\n",
       "  [1, 0, 0, 0, 0],\n",
       "  [1, 0, 0, 0, 0],\n",
       "  [1, 0, 0, 0, 0],\n",
       "  [1, 0, 0, 0, 0],\n",
       "  [1, 0, 0, 0, 0],\n",
       "  [1, 0, 0, 0, 0],\n",
       "  [1, 0, 0, 0, 0],\n",
       "  [1, 0, 0, 0, 0],\n",
       "  [1, 0, 0, 0, 0],\n",
       "  [1, 0, 0, 0, 0],\n",
       "  [1, 0, 0, 0, 0],\n",
       "  [1, 0, 0, 0, 0],\n",
       "  [1, 0, 0, 0, 0],\n",
       "  [1, 0, 0, 0, 0],\n",
       "  [1, 0, 0, 0, 0],\n",
       "  [1, 0, 0, 0, 0],\n",
       "  [1, 0, 0, 0, 0],\n",
       "  [1, 0, 0, 0, 0],\n",
       "  [1, 0, 0, 0, 0],\n",
       "  [1, 0, 0, 0, 0],\n",
       "  [1, 0, 0, 0, 0],\n",
       "  [1, 0, 0, 0, 0],\n",
       "  [1, 0, 0, 0, 0],\n",
       "  [1, 0, 0, 0, 0],\n",
       "  [1, 0, 0, 0, 0],\n",
       "  [1, 0, 0, 0, 0],\n",
       "  [1, 0, 0, 0, 0],\n",
       "  [1, 0, 0, 0, 0],\n",
       "  [1, 0, 0, 0, 0],\n",
       "  [1, 0, 0, 0, 0],\n",
       "  [1, 0, 0, 0, 0],\n",
       "  [1, 0, 0, 0, 0],\n",
       "  [1, 0, 0, 0, 0],\n",
       "  [1, 0, 0, 0, 0],\n",
       "  [1, 0, 0, 0, 0],\n",
       "  [1, 0, 0, 0, 0],\n",
       "  [1, 0, 0, 0, 0],\n",
       "  [1, 0, 0, 0, 0],\n",
       "  [1, 0, 0, 0, 0],\n",
       "  [0, 1, 0, 0, 0],\n",
       "  [0, 1, 0, 0, 0],\n",
       "  [0, 1, 0, 0, 0],\n",
       "  [0, 0, 0, 0, 1],\n",
       "  [0, 0, 0, 0, 1],\n",
       "  [0, 1, 0, 0, 0],\n",
       "  [1, 0, 0, 0, 0],\n",
       "  [1, 0, 0, 0, 0],\n",
       "  [0, 1, 0, 0, 0],\n",
       "  [1, 0, 0, 0, 0],\n",
       "  [1, 0, 0, 0, 0],\n",
       "  [1, 0, 0, 0, 0],\n",
       "  [1, 0, 0, 0, 0],\n",
       "  [0, 1, 0, 0, 0],\n",
       "  [0, 1, 0, 0, 0],\n",
       "  [1, 0, 0, 0, 0],\n",
       "  [0, 1, 0, 0, 0],\n",
       "  [0, 1, 0, 0, 0],\n",
       "  [1, 0, 0, 0, 0],\n",
       "  [0, 1, 0, 0, 0],\n",
       "  [1, 0, 0, 0, 0],\n",
       "  [1, 0, 0, 0, 0],\n",
       "  [1, 0, 0, 0, 0],\n",
       "  [1, 0, 0, 0, 0],\n",
       "  [1, 0, 0, 0, 0],\n",
       "  [1, 0, 0, 0, 0],\n",
       "  [1, 0, 0, 0, 0],\n",
       "  [1, 0, 0, 0, 0],\n",
       "  [1, 0, 0, 0, 0],\n",
       "  [1, 0, 0, 0, 0],\n",
       "  [1, 0, 0, 0, 0],\n",
       "  [1, 0, 0, 0, 0],\n",
       "  [1, 0, 0, 0, 0],\n",
       "  [1, 0, 0, 0, 0],\n",
       "  [1, 0, 0, 0, 0],\n",
       "  [1, 0, 0, 0, 0],\n",
       "  [1, 0, 0, 0, 0],\n",
       "  [1, 0, 0, 0, 0],\n",
       "  [1, 0, 0, 0, 0],\n",
       "  [1, 0, 0, 0, 0],\n",
       "  [1, 0, 0, 0, 0],\n",
       "  [1, 0, 0, 0, 0],\n",
       "  [1, 0, 0, 0, 0],\n",
       "  [1, 0, 0, 0, 0],\n",
       "  [1, 0, 0, 0, 0],\n",
       "  [1, 0, 0, 0, 0],\n",
       "  [1, 0, 0, 0, 0],\n",
       "  [1, 0, 0, 0, 0]],\n",
       " 'BLKFR-10-CPL_20190611_093000.pt540.mp3': [[1, 0, 0, 0, 0],\n",
       "  [1, 0, 0, 0, 0],\n",
       "  [1, 0, 0, 0, 0],\n",
       "  [1, 0, 0, 0, 0],\n",
       "  [1, 0, 0, 0, 0],\n",
       "  [1, 0, 0, 0, 0],\n",
       "  [1, 0, 0, 0, 0],\n",
       "  [1, 0, 0, 0, 0],\n",
       "  [1, 0, 0, 0, 0],\n",
       "  [1, 0, 0, 0, 0],\n",
       "  [1, 0, 0, 0, 0],\n",
       "  [1, 0, 0, 0, 0],\n",
       "  [1, 0, 0, 0, 0],\n",
       "  [1, 0, 0, 0, 0],\n",
       "  [1, 0, 0, 0, 0],\n",
       "  [1, 0, 0, 0, 0],\n",
       "  [1, 0, 0, 0, 0],\n",
       "  [1, 0, 0, 0, 0],\n",
       "  [1, 0, 0, 0, 0],\n",
       "  [1, 0, 0, 0, 0],\n",
       "  [1, 0, 0, 0, 0],\n",
       "  [1, 0, 0, 0, 0],\n",
       "  [1, 0, 0, 0, 0],\n",
       "  [1, 0, 0, 0, 0],\n",
       "  [1, 0, 0, 0, 0],\n",
       "  [1, 0, 0, 0, 0],\n",
       "  [1, 0, 0, 0, 0],\n",
       "  [1, 0, 0, 0, 0],\n",
       "  [1, 0, 0, 0, 0],\n",
       "  [1, 0, 0, 0, 0],\n",
       "  [1, 0, 0, 0, 0],\n",
       "  [1, 0, 0, 0, 0],\n",
       "  [1, 0, 0, 0, 0],\n",
       "  [1, 0, 0, 0, 0],\n",
       "  [1, 0, 0, 0, 0],\n",
       "  [1, 0, 0, 0, 0],\n",
       "  [1, 0, 0, 0, 0],\n",
       "  [1, 0, 0, 0, 0],\n",
       "  [1, 0, 0, 0, 0],\n",
       "  [1, 0, 0, 0, 0],\n",
       "  [1, 0, 0, 0, 0],\n",
       "  [1, 0, 0, 0, 0],\n",
       "  [1, 0, 0, 0, 0],\n",
       "  [1, 0, 0, 0, 0],\n",
       "  [1, 0, 0, 0, 0],\n",
       "  [1, 0, 0, 0, 0],\n",
       "  [1, 0, 0, 0, 0],\n",
       "  [1, 0, 0, 0, 0],\n",
       "  [1, 0, 0, 0, 0],\n",
       "  [1, 0, 0, 0, 0],\n",
       "  [1, 0, 0, 0, 0],\n",
       "  [1, 0, 0, 0, 0],\n",
       "  [1, 0, 0, 0, 0],\n",
       "  [1, 0, 0, 0, 0],\n",
       "  [1, 0, 0, 0, 0],\n",
       "  [0, 1, 0, 0, 0],\n",
       "  [1, 0, 0, 0, 0],\n",
       "  [1, 0, 0, 0, 0],\n",
       "  [1, 0, 0, 0, 0],\n",
       "  [1, 0, 0, 0, 0],\n",
       "  [1, 0, 0, 0, 0],\n",
       "  [1, 0, 0, 0, 0],\n",
       "  [1, 0, 0, 0, 0],\n",
       "  [1, 0, 0, 0, 0],\n",
       "  [1, 0, 0, 0, 0],\n",
       "  [1, 0, 0, 0, 0],\n",
       "  [1, 0, 0, 0, 0],\n",
       "  [1, 0, 0, 0, 0],\n",
       "  [1, 0, 0, 0, 0],\n",
       "  [1, 0, 0, 0, 0],\n",
       "  [1, 0, 0, 0, 0],\n",
       "  [1, 0, 0, 0, 0],\n",
       "  [1, 0, 0, 0, 0],\n",
       "  [1, 0, 0, 0, 0],\n",
       "  [1, 0, 0, 0, 0],\n",
       "  [1, 0, 0, 0, 0],\n",
       "  [1, 0, 0, 0, 0],\n",
       "  [1, 0, 0, 0, 0],\n",
       "  [1, 0, 0, 0, 0],\n",
       "  [1, 0, 0, 0, 0],\n",
       "  [1, 0, 0, 0, 0],\n",
       "  [1, 0, 0, 0, 0],\n",
       "  [1, 0, 0, 0, 0],\n",
       "  [1, 0, 0, 0, 0],\n",
       "  [1, 0, 0, 0, 0],\n",
       "  [1, 0, 0, 0, 0],\n",
       "  [1, 0, 0, 0, 0],\n",
       "  [1, 0, 0, 0, 0],\n",
       "  [1, 0, 0, 0, 0],\n",
       "  [1, 0, 0, 0, 0],\n",
       "  [1, 0, 0, 0, 0],\n",
       "  [1, 0, 0, 0, 0],\n",
       "  [1, 0, 0, 0, 0],\n",
       "  [1, 0, 0, 0, 0],\n",
       "  [1, 0, 0, 0, 0],\n",
       "  [1, 0, 0, 0, 0],\n",
       "  [1, 0, 0, 0, 0],\n",
       "  [1, 0, 0, 0, 0],\n",
       "  [1, 0, 0, 0, 0],\n",
       "  [1, 0, 0, 0, 0],\n",
       "  [1, 0, 0, 0, 0],\n",
       "  [1, 0, 0, 0, 0],\n",
       "  [1, 0, 0, 0, 0],\n",
       "  [1, 0, 0, 0, 0],\n",
       "  [1, 0, 0, 0, 0],\n",
       "  [1, 0, 0, 0, 0],\n",
       "  [1, 0, 0, 0, 0],\n",
       "  [1, 0, 0, 0, 0],\n",
       "  [1, 0, 0, 0, 0],\n",
       "  [1, 0, 0, 0, 0],\n",
       "  [1, 0, 0, 0, 0],\n",
       "  [1, 0, 0, 0, 0],\n",
       "  [1, 0, 0, 0, 0],\n",
       "  [1, 0, 0, 0, 0],\n",
       "  [1, 0, 0, 0, 0],\n",
       "  [1, 0, 0, 0, 0],\n",
       "  [1, 0, 0, 0, 0],\n",
       "  [1, 0, 0, 0, 0],\n",
       "  [1, 0, 0, 0, 0],\n",
       "  [1, 0, 0, 0, 0],\n",
       "  [1, 0, 0, 0, 0],\n",
       "  [1, 0, 0, 0, 0],\n",
       "  [1, 0, 0, 0, 0],\n",
       "  [1, 0, 0, 0, 0],\n",
       "  [1, 0, 0, 0, 0],\n",
       "  [1, 0, 0, 0, 0],\n",
       "  [1, 0, 0, 0, 0],\n",
       "  [1, 0, 0, 0, 0],\n",
       "  [1, 0, 0, 0, 0],\n",
       "  [1, 0, 0, 0, 0],\n",
       "  [1, 0, 0, 0, 0],\n",
       "  [1, 0, 0, 0, 0],\n",
       "  [1, 0, 0, 0, 0],\n",
       "  [1, 0, 0, 0, 0],\n",
       "  [1, 0, 0, 0, 0],\n",
       "  [1, 0, 0, 0, 0],\n",
       "  [1, 0, 0, 0, 0],\n",
       "  [1, 0, 0, 0, 0],\n",
       "  [1, 0, 0, 0, 0],\n",
       "  [1, 0, 0, 0, 0],\n",
       "  [1, 0, 0, 0, 0],\n",
       "  [1, 0, 0, 0, 0],\n",
       "  [1, 0, 0, 0, 0],\n",
       "  [1, 0, 0, 0, 0],\n",
       "  [1, 0, 0, 0, 0],\n",
       "  [1, 0, 0, 0, 0],\n",
       "  [1, 0, 0, 0, 0],\n",
       "  [1, 0, 0, 0, 0],\n",
       "  [1, 0, 0, 0, 0],\n",
       "  [1, 0, 0, 0, 0],\n",
       "  [1, 0, 0, 0, 0],\n",
       "  [1, 0, 0, 0, 0],\n",
       "  [1, 0, 0, 0, 0],\n",
       "  [1, 0, 0, 0, 0],\n",
       "  [1, 0, 0, 0, 0],\n",
       "  [1, 0, 0, 0, 0]]}"
      ]
     },
     "execution_count": 69,
     "metadata": {},
     "output_type": "execute_result"
    }
   ],
   "source": [
    "class_preds"
   ]
  },
  {
   "cell_type": "code",
   "execution_count": 70,
   "id": "dac0f7bb",
   "metadata": {
    "execution": {
     "iopub.execute_input": "2023-09-23T11:45:07.447088Z",
     "iopub.status.busy": "2023-09-23T11:45:07.446690Z",
     "iopub.status.idle": "2023-09-23T11:45:07.452813Z",
     "shell.execute_reply": "2023-09-23T11:45:07.452045Z"
    },
    "papermill": {
     "duration": 0.581362,
     "end_time": "2023-09-23T11:45:07.455069",
     "exception": false,
     "start_time": "2023-09-23T11:45:06.873707",
     "status": "completed"
    },
    "tags": []
   },
   "outputs": [],
   "source": [
    "bird_name = {(1,0,0,0,0) : \"Pinjay\", (0,1,0,0,0) : \"Amecro\" , (0,0,1,0,0) : \"Crawre\" ,(0,0,0,1,0) : \"Fiespa\" ,(0,0,0,0,1) : \"Foxspa\"}"
   ]
  },
  {
   "cell_type": "code",
   "execution_count": 71,
   "id": "b509b9e3",
   "metadata": {
    "execution": {
     "iopub.execute_input": "2023-09-23T11:45:08.590289Z",
     "iopub.status.busy": "2023-09-23T11:45:08.589973Z",
     "iopub.status.idle": "2023-09-23T11:45:08.597495Z",
     "shell.execute_reply": "2023-09-23T11:45:08.596797Z"
    },
    "papermill": {
     "duration": 0.577869,
     "end_time": "2023-09-23T11:45:08.599352",
     "exception": false,
     "start_time": "2023-09-23T11:45:08.021483",
     "status": "completed"
    },
    "tags": []
   },
   "outputs": [],
   "source": [
    "postprocessed={}\n",
    "for file,scores in class_preds.items():\n",
    "    postprocessed[file]=tf.math.reduce_sum([key for key,group in groupby(scores)]).numpy()\n",
    "#postprocessed"
   ]
  },
  {
   "cell_type": "code",
   "execution_count": 72,
   "id": "7bd8cba2",
   "metadata": {
    "execution": {
     "iopub.execute_input": "2023-09-23T11:45:09.735315Z",
     "iopub.status.busy": "2023-09-23T11:45:09.734986Z",
     "iopub.status.idle": "2023-09-23T11:45:09.740828Z",
     "shell.execute_reply": "2023-09-23T11:45:09.740158Z"
    },
    "papermill": {
     "duration": 0.57632,
     "end_time": "2023-09-23T11:45:09.742650",
     "exception": false,
     "start_time": "2023-09-23T11:45:09.166330",
     "status": "completed"
    },
    "tags": []
   },
   "outputs": [],
   "source": [
    "bird_pred={}\n",
    "\n",
    "for file,scores in class_preds.items():\n",
    "    record = [key for key,group in groupby(scores)]\n",
    "    d = {}\n",
    "    for l in record :\n",
    "        \n",
    "        if bird_name[tuple(l)] in d :\n",
    "            d[bird_name[tuple(l)]] += 1\n",
    "        else:\n",
    "            d[bird_name[tuple(l)]] = 1 \n",
    "    bird_pred[file] = d"
   ]
  },
  {
   "cell_type": "code",
   "execution_count": 73,
   "id": "848c5b7f",
   "metadata": {
    "execution": {
     "iopub.execute_input": "2023-09-23T11:45:10.875703Z",
     "iopub.status.busy": "2023-09-23T11:45:10.875414Z",
     "iopub.status.idle": "2023-09-23T11:45:10.880864Z",
     "shell.execute_reply": "2023-09-23T11:45:10.880187Z"
    },
    "papermill": {
     "duration": 0.575336,
     "end_time": "2023-09-23T11:45:10.882940",
     "exception": false,
     "start_time": "2023-09-23T11:45:10.307604",
     "status": "completed"
    },
    "tags": []
   },
   "outputs": [
    {
     "data": {
      "text/plain": [
       "{'ORANGE-7-CAP_20190606_093000.pt623.mp3': {'Pinjay': 6,\n",
       "  'Amecro': 6,\n",
       "  'Foxspa': 1},\n",
       " 'BLKFR-10-CPL_20190611_093000.pt540.mp3': {'Pinjay': 2, 'Amecro': 1}}"
      ]
     },
     "execution_count": 73,
     "metadata": {},
     "output_type": "execute_result"
    }
   ],
   "source": [
    "bird_pred"
   ]
  },
  {
   "cell_type": "code",
   "execution_count": 74,
   "id": "4daa842f",
   "metadata": {
    "execution": {
     "iopub.execute_input": "2023-09-23T11:45:12.058207Z",
     "iopub.status.busy": "2023-09-23T11:45:12.057509Z",
     "iopub.status.idle": "2023-09-23T11:45:12.063239Z",
     "shell.execute_reply": "2023-09-23T11:45:12.062396Z"
    },
    "papermill": {
     "duration": 0.617982,
     "end_time": "2023-09-23T11:45:12.065168",
     "exception": false,
     "start_time": "2023-09-23T11:45:11.447186",
     "status": "completed"
    },
    "tags": []
   },
   "outputs": [],
   "source": [
    "import csv\n",
    "with open('submission.csv','w',newline='')as f:\n",
    "    writer=csv.writer(f,delimiter=',')\n",
    "    writer.writerow(['clip_name','call_count'])\n",
    "    for key, value in bird_pred.items():\n",
    "        writer.writerow([key,value])"
   ]
  },
  {
   "cell_type": "code",
   "execution_count": null,
   "id": "c8c48226",
   "metadata": {
    "papermill": {
     "duration": 0.563681,
     "end_time": "2023-09-23T11:45:13.198934",
     "exception": false,
     "start_time": "2023-09-23T11:45:12.635253",
     "status": "completed"
    },
    "tags": []
   },
   "outputs": [],
   "source": []
  },
  {
   "cell_type": "code",
   "execution_count": null,
   "id": "29b9d0e7",
   "metadata": {
    "papermill": {
     "duration": 0.598659,
     "end_time": "2023-09-23T11:45:14.375295",
     "exception": false,
     "start_time": "2023-09-23T11:45:13.776636",
     "status": "completed"
    },
    "tags": []
   },
   "outputs": [],
   "source": []
  }
 ],
 "metadata": {
  "kernelspec": {
   "display_name": "Python 3",
   "language": "python",
   "name": "python3"
  },
  "language_info": {
   "codemirror_mode": {
    "name": "ipython",
    "version": 3
   },
   "file_extension": ".py",
   "mimetype": "text/x-python",
   "name": "python",
   "nbconvert_exporter": "python",
   "pygments_lexer": "ipython3",
   "version": "3.7.12"
  },
  "papermill": {
   "default_parameters": {},
   "duration": 614.442871,
   "end_time": "2023-09-23T11:45:18.718283",
   "environment_variables": {},
   "exception": null,
   "input_path": "__notebook__.ipynb",
   "output_path": "__notebook__.ipynb",
   "parameters": {},
   "start_time": "2023-09-23T11:35:04.275412",
   "version": "2.3.4"
  }
 },
 "nbformat": 4,
 "nbformat_minor": 5
}
